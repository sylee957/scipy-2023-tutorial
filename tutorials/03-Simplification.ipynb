{
 "cells": [
  {
   "cell_type": "markdown",
   "id": "6a1d53ed-6ffd-4e8d-bfc2-58bd826d824f",
   "metadata": {},
   "source": [
    "# Simplification\n",
    "\n",
    "In this section, we are going to introduce SymPy's simplify functions.\n",
    "\n",
    "Simplification has various applications like:\n",
    "\n",
    "- Discovering new mathematical formula\n",
    "- Verifying the answer of mathematical problem\n",
    "- Changing the form of mathematical expressions to better work with (to compute integrals, limits, ...)\n",
    "- Optimizing your math function for numeric evaluation."
   ]
  },
  {
   "cell_type": "markdown",
   "id": "9ddd5ad7-60e8-4f52-9df6-1f45ca24b3af",
   "metadata": {},
   "source": [
    "## Discovering Mathematical Identities"
   ]
  },
  {
   "cell_type": "markdown",
   "id": "af2e6299-8c5d-4661-8791-9b226c8535fe",
   "metadata": {},
   "source": [
    "You have seen that a lot of math problems expect you to simplify the result of some calculation.\n",
    "\n",
    "Simplification is an action of searching and transforming the mathematical formula using arbitrary mathematical identities.\n",
    "\n",
    "In SymPy, `simplify` can get into surprise that it can solve fairly complicated problems:"
   ]
  },
  {
   "cell_type": "code",
   "execution_count": 316,
   "id": "7bb0fe0d-b71f-4a02-af39-437c01e0a4f3",
   "metadata": {},
   "outputs": [
    {
     "data": {
      "text/latex": [
       "$\\displaystyle - \\sqrt{10 + 6 \\sqrt{3}} + \\sqrt{1 + \\sqrt{3}} + \\sqrt{3 + 3 \\sqrt{3}}$"
      ],
      "text/plain": [
       "-sqrt(10 + 6*sqrt(3)) + sqrt(1 + sqrt(3)) + sqrt(3 + 3*sqrt(3))"
      ]
     },
     "execution_count": 316,
     "metadata": {},
     "output_type": "execute_result"
    }
   ],
   "source": [
    "from sympy import *\n",
    "\n",
    "expr = sqrt(1 + sqrt(3)) + sqrt(3 + 3*sqrt(3)) - sqrt(10 + 6*sqrt(3))\n",
    "expr"
   ]
  },
  {
   "cell_type": "code",
   "execution_count": 317,
   "id": "7ef8e778-fd36-4f2f-b612-2044f1ac91b1",
   "metadata": {},
   "outputs": [
    {
     "data": {
      "text/latex": [
       "$\\displaystyle 0$"
      ],
      "text/plain": [
       "0"
      ]
     },
     "execution_count": 317,
     "metadata": {},
     "output_type": "execute_result"
    }
   ],
   "source": [
    "simplify(expr)"
   ]
  },
  {
   "cell_type": "markdown",
   "id": "56d2075f-d6f5-4db2-9066-2d93658c1f22",
   "metadata": {},
   "source": [
    "And if some operations give huge formula\n",
    "\n",
    "`simplify` can be used to give a more readable form."
   ]
  },
  {
   "cell_type": "code",
   "execution_count": 318,
   "id": "7fe55b2e-9b8e-48b8-92fd-58480bbaeb43",
   "metadata": {},
   "outputs": [
    {
     "data": {
      "text/latex": [
       "$\\displaystyle \\left(- \\frac{\\sqrt{2} \\cdot \\left(\\frac{1}{4} + \\frac{\\sqrt{5}}{4}\\right)}{2} - \\frac{\\sqrt{2} \\sqrt{\\frac{5}{8} - \\frac{\\sqrt{5}}{8}}}{2}\\right) \\left(- \\frac{\\sqrt{5}}{8} - \\frac{1}{8} + \\frac{\\sqrt{3} \\sqrt{\\frac{5}{8} - \\frac{\\sqrt{5}}{8}}}{2}\\right) + \\left(- \\frac{\\sqrt{2} \\cdot \\left(\\frac{1}{4} + \\frac{\\sqrt{5}}{4}\\right)}{2} + \\frac{\\sqrt{2} \\sqrt{\\frac{5}{8} - \\frac{\\sqrt{5}}{8}}}{2}\\right) \\left(- \\frac{\\sqrt{3} \\cdot \\left(\\frac{1}{4} + \\frac{\\sqrt{5}}{4}\\right)}{2} - \\frac{\\sqrt{\\frac{5}{8} - \\frac{\\sqrt{5}}{8}}}{2}\\right)$"
      ],
      "text/plain": [
       "(-sqrt(2)*(1/4 + sqrt(5)/4)/2 - sqrt(2)*sqrt(5/8 - sqrt(5)/8)/2)*(-sqrt(5)/8 - 1/8 + sqrt(3)*sqrt(5/8 - sqrt(5)/8)/2) + (-sqrt(2)*(1/4 + sqrt(5)/4)/2 + sqrt(2)*sqrt(5/8 - sqrt(5)/8)/2)*(-sqrt(3)*(1/4 + sqrt(5)/4)/2 - sqrt(5/8 - sqrt(5)/8)/2)"
      ]
     },
     "execution_count": 318,
     "metadata": {},
     "output_type": "execute_result"
    }
   ],
   "source": [
    "sin(pi/60)"
   ]
  },
  {
   "cell_type": "code",
   "execution_count": 319,
   "id": "a446b884-84b4-4e9d-a278-51ee9a084c4f",
   "metadata": {},
   "outputs": [
    {
     "data": {
      "text/latex": [
       "$\\displaystyle - \\frac{\\sqrt{15} \\sqrt{5 - \\sqrt{5}}}{16} - \\frac{\\sqrt{3} \\sqrt{5 - \\sqrt{5}}}{16} - \\frac{\\sqrt{6}}{16} - \\frac{\\sqrt{2}}{16} + \\frac{\\sqrt{5 - \\sqrt{5}}}{16} + \\frac{\\sqrt{10}}{16} + \\frac{\\sqrt{5} \\sqrt{5 - \\sqrt{5}}}{16} + \\frac{\\sqrt{30}}{16}$"
      ],
      "text/plain": [
       "-sqrt(15)*sqrt(5 - sqrt(5))/16 - sqrt(3)*sqrt(5 - sqrt(5))/16 - sqrt(6)/16 - sqrt(2)/16 + sqrt(5 - sqrt(5))/16 + sqrt(10)/16 + sqrt(5)*sqrt(5 - sqrt(5))/16 + sqrt(30)/16"
      ]
     },
     "execution_count": 319,
     "metadata": {},
     "output_type": "execute_result"
    }
   ],
   "source": [
    "simplify(sin(pi/60))"
   ]
  },
  {
   "cell_type": "markdown",
   "id": "4785a1e0-bdef-481a-ab7e-6f8d7a9acece",
   "metadata": {},
   "source": [
    "## Verifying Answer"
   ]
  },
  {
   "cell_type": "markdown",
   "id": "7269f933-9e72-4653-90bf-19839dc8ccd9",
   "metadata": {},
   "source": [
    "### The limitation of `==`\n",
    "\n",
    "SymPy `==` can only compare literally equal expressions.\n",
    "\n",
    "And even though some expressions are algebraically equal, they are not respected."
   ]
  },
  {
   "cell_type": "code",
   "execution_count": 320,
   "id": "e1fccf15-663b-4ba6-8ec5-de1d6cd4a075",
   "metadata": {},
   "outputs": [
    {
     "data": {
      "text/plain": [
       "True"
      ]
     },
     "execution_count": 320,
     "metadata": {},
     "output_type": "execute_result"
    }
   ],
   "source": [
    "sin(x)**2 + cos(x)**2 == sin(x)**2 + cos(x)**2"
   ]
  },
  {
   "cell_type": "code",
   "execution_count": 321,
   "id": "17db8544-6d79-4640-9675-a32a8f8d08ee",
   "metadata": {},
   "outputs": [
    {
     "data": {
      "text/plain": [
       "False"
      ]
     },
     "execution_count": 321,
     "metadata": {},
     "output_type": "execute_result"
    }
   ],
   "source": [
    "from sympy import *\n",
    "\n",
    "x = Symbol('x')\n",
    "sin(x)**2 + cos(x)**2 == 1"
   ]
  },
  {
   "cell_type": "code",
   "execution_count": 322,
   "id": "7cdfaf2e-2f8e-46a7-aea2-d162ec6fc34d",
   "metadata": {},
   "outputs": [
    {
     "data": {
      "text/plain": [
       "False"
      ]
     },
     "execution_count": 322,
     "metadata": {},
     "output_type": "execute_result"
    }
   ],
   "source": [
    "x**2 + 2*x + 1 == (x + 1)**2"
   ]
  },
  {
   "cell_type": "markdown",
   "id": "8bd5f057-9c6a-407a-81c8-241c7302932d",
   "metadata": {},
   "source": [
    "### Zero Test\n",
    "\n",
    "In order to compare the expressions $f = g$ algebraically\n",
    "\n",
    "You can use zero testing by simplifying $f - g$ and testing against zero.\n",
    "\n",
    "`simplify` considers $0$ as the most 'simpliest' form if two expressions are algebraically equal."
   ]
  },
  {
   "cell_type": "code",
   "execution_count": 323,
   "id": "da022f03-8495-4997-ac24-5bfc15125e17",
   "metadata": {},
   "outputs": [
    {
     "data": {
      "text/latex": [
       "$\\displaystyle 0$"
      ],
      "text/plain": [
       "0"
      ]
     },
     "execution_count": 323,
     "metadata": {},
     "output_type": "execute_result"
    }
   ],
   "source": [
    "lhs = sin(x)**2 + cos(x)**2\n",
    "rhs = 1\n",
    "simplify(lhs - rhs)"
   ]
  },
  {
   "cell_type": "markdown",
   "id": "ba4fa597-44a1-4cf8-bcb1-5dfa5fabc1a9",
   "metadata": {},
   "source": [
    "## Limitations of Simplify"
   ]
  },
  {
   "cell_type": "markdown",
   "id": "ebbff4e1-8725-4823-b5db-3af35fdeda01",
   "metadata": {},
   "source": [
    "Although the simplify can be used for every sympy expressions like 'black magic'.\n",
    "\n",
    "However, it comes with some problems\n",
    "\n",
    "- `simplify` can sometimes be slow because it needs to expand very large expressions.\n",
    "- `simplify` should give mathematically sound result, however it may not be able to simplify completely because it uses heuristic methods.\n",
    "   (for skeptical readers)"
   ]
  },
  {
   "cell_type": "markdown",
   "id": "59b78d03-7d82-4a0b-9998-d86b83f9fbc9",
   "metadata": {},
   "source": [
    "An example that the `simplify` fails to find the solution is:"
   ]
  },
  {
   "cell_type": "code",
   "execution_count": 324,
   "id": "88609777-c975-495c-b266-b8ea04024672",
   "metadata": {},
   "outputs": [
    {
     "data": {
      "text/latex": [
       "$\\displaystyle \\frac{\\sin{\\left(x \\right)} + \\sin{\\left(3 x \\right)} + \\sin{\\left(5 x \\right)} + \\sin{\\left(7 x \\right)}}{\\cos{\\left(x \\right)} + \\cos{\\left(3 x \\right)} + \\cos{\\left(5 x \\right)} + \\cos{\\left(7 x \\right)}}$"
      ],
      "text/plain": [
       "(sin(x) + sin(3*x) + sin(5*x) + sin(7*x))/(cos(x) + cos(3*x) + cos(5*x) + cos(7*x))"
      ]
     },
     "execution_count": 324,
     "metadata": {},
     "output_type": "execute_result"
    }
   ],
   "source": [
    "numer = (sin(x) + sin(3*x) + sin(5*x) + sin(7*x))\n",
    "denom = (cos(x) + cos(3*x) + cos(5*x) + cos(7*x))\n",
    "simplify(numer / denom)"
   ]
  },
  {
   "cell_type": "markdown",
   "id": "78f2cf5f-576c-4b41-8bd5-52fc1fa0bad3",
   "metadata": {},
   "source": [
    "The answer is $\\tan(4x)$\n",
    "\n",
    "However, even though `simplify` doesn't work for that cases, there are several workarounds to make it work better\n",
    "\n",
    "(to be explained)"
   ]
  },
  {
   "cell_type": "markdown",
   "id": "b88f3220-7264-427c-b77b-305d6f047671",
   "metadata": {},
   "source": [
    "# Polynomials"
   ]
  },
  {
   "cell_type": "markdown",
   "id": "a7a02c30-c588-4cff-845c-587a1dfd7979",
   "metadata": {},
   "source": [
    "## Expansion\n",
    "\n",
    "Although the polynomial multiplication is very simple like long arithmetic,\n",
    "\n",
    "If the polynomial becomes large, the calculation is tedious.\n",
    "\n",
    "In SymPy, `expand` can be used to expand very large polynomials"
   ]
  },
  {
   "cell_type": "markdown",
   "id": "58ceb61c-65eb-41a2-adab-928bf8296dc2",
   "metadata": {},
   "source": [
    "### Exercises\n",
    "\n",
    "Expand the following polynomials:\n",
    "\n",
    "- `(x**8 + 16*x**4 + 2) * (x**8 - 16*x**4 + 2)`\n",
    "- `(x**2 - x**6/6 + x**12/12) * (x**2 + x**6/6 + x**12/12)`\n",
    "- `(5*x**5 + 4*x**4 + 3*x**3 + 2*x**2 + x + 1) * (5*x**5 - 4*x**4 + 3*x**3 - 2*x**2 + x - 1)`"
   ]
  },
  {
   "cell_type": "code",
   "execution_count": 325,
   "id": "ab28ea8e-4a58-4c3a-8703-5c17aac760b5",
   "metadata": {},
   "outputs": [
    {
     "data": {
      "text/latex": [
       "$\\displaystyle x^{16} - 252 x^{8} + 4$"
      ],
      "text/plain": [
       "x**16 - 252*x**8 + 4"
      ]
     },
     "execution_count": 325,
     "metadata": {},
     "output_type": "execute_result"
    }
   ],
   "source": [
    "expand((x**8 + 16*x**4 + 2) * (x**8 - 16*x**4 + 2))"
   ]
  },
  {
   "cell_type": "code",
   "execution_count": 326,
   "id": "943ab64b-e3b5-4eae-b779-e15764f41b45",
   "metadata": {},
   "outputs": [
    {
     "data": {
      "text/latex": [
       "$\\displaystyle \\frac{x^{24}}{144} + \\frac{x^{14}}{6} - \\frac{x^{12}}{36} + x^{4}$"
      ],
      "text/plain": [
       "x**24/144 + x**14/6 - x**12/36 + x**4"
      ]
     },
     "execution_count": 326,
     "metadata": {},
     "output_type": "execute_result"
    }
   ],
   "source": [
    "expand((x**2 - x**6/6 + x**12/12) * (x**2 + x**6/6 + x**12/12))"
   ]
  },
  {
   "cell_type": "code",
   "execution_count": 327,
   "id": "b96af0c5-7547-4ac9-8652-34e3a2799bf1",
   "metadata": {},
   "outputs": [
    {
     "data": {
      "text/latex": [
       "$\\displaystyle 25 x^{10} + 14 x^{8} + 3 x^{6} - 6 x^{4} - 3 x^{2} - 1$"
      ],
      "text/plain": [
       "25*x**10 + 14*x**8 + 3*x**6 - 6*x**4 - 3*x**2 - 1"
      ]
     },
     "execution_count": 327,
     "metadata": {},
     "output_type": "execute_result"
    }
   ],
   "source": [
    "expand((5*x**5 + 4*x**4 + 3*x**3 + 2*x**2 + x + 1) * (5*x**5 - 4*x**4 + 3*x**3 - 2*x**2 + x - 1))"
   ]
  },
  {
   "cell_type": "markdown",
   "id": "7997c596-6315-4df4-8f5d-f46c6483e424",
   "metadata": {},
   "source": [
    "## Factorization\n",
    "\n",
    "The inverse operation of polynomial expansion is polynomial factorization.\n",
    "\n",
    "Polynomial factorization is useful for finding solutions of polynomial equation.\n",
    "\n",
    "Factorizing higher degree polynomials is not learned completely in eduation,\n",
    "\n",
    "and it is often impossible to do without using certain algorithms.\n",
    "\n",
    "In SymPy, you can use `factor` to factor out polynomials"
   ]
  },
  {
   "cell_type": "markdown",
   "id": "31686ee8-7fd7-4683-9036-10bda574a0ff",
   "metadata": {},
   "source": [
    "### Exercises\n",
    "\n",
    "Factorize the polynomials\n",
    "\n",
    "- `x**3 + 14*x**2 + 56*x + 64`\n",
    "- `18*x**3 - 57*x**2 + 53*x - 12`\n",
    "- `15*x**5 - 11*x**4 + 47*x**3 + 27*x**2 - 38*x + 8`\n",
    "- `x**8 - 4*x**6 + 16*x**2 - 16`\n",
    "- `x**12 - 3*x**10 - 2*x**9 + 3*x**8 + 6*x**7 - 6*x**5 - 3*x**4 + 2*x**3 + 3*x**2 - 1`\n",
    "- `3*x*y - y*x**3 - x**2 + 2*x + x*y**2 + x**2*y + y**2*x**2`"
   ]
  },
  {
   "cell_type": "code",
   "execution_count": null,
   "id": "f3f81ca3-b175-4d50-b748-b1b0ca671361",
   "metadata": {},
   "outputs": [],
   "source": []
  },
  {
   "cell_type": "markdown",
   "id": "2f073a46-9cf6-4bad-8531-47ce0aa38f6a",
   "metadata": {},
   "source": [
    "# Rational Functions"
   ]
  },
  {
   "cell_type": "markdown",
   "id": "393bd7e1-7489-4144-a61c-92bb1aa1fdfc",
   "metadata": {},
   "source": [
    "## Rational Reduction\n",
    "\n",
    "In order to manipulate the rational functions,\n",
    "\n",
    "you'd first like to put in the common denominnator.\n",
    "\n",
    "`together` can be used to put the rational functions in the common denominator."
   ]
  },
  {
   "cell_type": "code",
   "execution_count": 334,
   "id": "85c93f94-fe9f-4391-823e-4ec3c8365907",
   "metadata": {},
   "outputs": [
    {
     "data": {
      "text/latex": [
       "$\\displaystyle \\frac{x + y}{x y}$"
      ],
      "text/plain": [
       "(x + y)/(x*y)"
      ]
     },
     "execution_count": 334,
     "metadata": {},
     "output_type": "execute_result"
    }
   ],
   "source": [
    "together(1 / x + 1 / y)"
   ]
  },
  {
   "cell_type": "code",
   "execution_count": 346,
   "id": "471364c7-7dcb-4717-929b-3d9cf82ecd11",
   "metadata": {},
   "outputs": [
    {
     "data": {
      "text/latex": [
       "$\\displaystyle 0$"
      ],
      "text/plain": [
       "0"
      ]
     },
     "execution_count": 346,
     "metadata": {},
     "output_type": "execute_result"
    }
   ],
   "source": [
    "a = Symbol('a')\n",
    "b = Symbol('b')\n",
    "c = Symbol('c')\n",
    "\n",
    "expr = 1/(1/a + c/a/b) + (a*b*c + a*c**2)/(b + c)**2 - a\n",
    "together(expr)"
   ]
  },
  {
   "cell_type": "code",
   "execution_count": 347,
   "id": "ebec097d-c606-4a87-8657-5ae268491236",
   "metadata": {},
   "outputs": [
    {
     "data": {
      "text/latex": [
       "$\\displaystyle \\frac{2 \\left(x - 1\\right) \\left(x + 1\\right) \\left(x^{3} - x^{2} y - x y + y^{2}\\right) - \\left(x - 1\\right) \\left(y - 1\\right) \\left(x^{3} - x^{2} y - x + y\\right) + \\left(x + 1\\right) \\left(y - 1\\right) \\left(x^{3} - x^{2} y - x + y\\right)}{\\left(x - 1\\right) \\left(x + 1\\right) \\left(x^{3} - x^{2} y - x + y\\right)}$"
      ],
      "text/plain": [
       "(2*(x - 1)*(x + 1)*(x**3 - x**2*y - x*y + y**2) - (x - 1)*(y - 1)*(x**3 - x**2*y - x + y) + (x + 1)*(y - 1)*(x**3 - x**2*y - x + y))/((x - 1)*(x + 1)*(x**3 - x**2*y - x + y))"
      ]
     },
     "execution_count": 347,
     "metadata": {},
     "output_type": "execute_result"
    }
   ],
   "source": [
    "expr = 2*(x**3 - x**2*y - x*y + y**2)/(x**3 - x**2*y - x + y) + (y - 1)/(x - 1) - (y - 1)/(x + 1)\n",
    "together(expr)"
   ]
  },
  {
   "cell_type": "markdown",
   "id": "4153bddc-b7b5-4799-a639-57c6487ff6e9",
   "metadata": {},
   "source": [
    "However, as you notice, `together` gives a raw result \n",
    "\n",
    "and doesn't simplify the polynomial terms in the numerator and the denominator automatically.\n",
    "\n",
    "`expand(..., frac=True)` can be used to expand the polynomial terms in each of the numerator and the denominator\n",
    "\n",
    "which may give the desired result.\n",
    "\n",
    "(I'd note that be careful not to use raw `expand` directly or it may give more ugly result by decomposeing the numerator)"
   ]
  },
  {
   "cell_type": "code",
   "execution_count": 348,
   "id": "bb4e6f84-74f3-4e5e-8413-4685c1a6834f",
   "metadata": {},
   "outputs": [
    {
     "data": {
      "text/latex": [
       "$\\displaystyle \\frac{2 x^{5} - 2 x^{4} y - 4 x^{3} + 4 x^{2} y + 2 x - 2 y}{x^{5} - x^{4} y - 2 x^{3} + 2 x^{2} y + x - y}$"
      ],
      "text/plain": [
       "(2*x**5 - 2*x**4*y - 4*x**3 + 4*x**2*y + 2*x - 2*y)/(x**5 - x**4*y - 2*x**3 + 2*x**2*y + x - y)"
      ]
     },
     "execution_count": 348,
     "metadata": {},
     "output_type": "execute_result"
    }
   ],
   "source": [
    "expand(together(expr), frac=True)"
   ]
  },
  {
   "cell_type": "markdown",
   "id": "6b050857-10e5-464f-ac28-37bef66cd113",
   "metadata": {},
   "source": [
    "## Cancellation\n",
    "\n",
    "In order to simplify the rational functions, \n",
    "\n",
    "you can use `cancel` to cancel out the common factors of the numerator and the denominator.\n",
    "\n",
    "It uses polynomial GCD algorithms."
   ]
  },
  {
   "cell_type": "markdown",
   "id": "48b86f3b-6552-46fe-9a88-d000cef9837b",
   "metadata": {},
   "source": [
    "### Exercises\n",
    "\n",
    "Cancel out the common factors for the following rational functions:\n",
    "\n",
    "- `(x**4 + x**3 - 4*x**2 - 4*x) / (x**4 + x**3 - x**2 - x)`\n",
    "- `(2*a**3 + 22*a*b + 6*a**2 + 7*a + 6*b*a**2 + 12*b**2 + 21*b) / (7*a**2 - 5*a*b**2 - 2*b*a**2 - 5*a + 21*a*b + 3*b**3 - 15*b)`"
   ]
  },
  {
   "cell_type": "code",
   "execution_count": 350,
   "id": "a68e0549-75db-4c0b-8a63-6b86b59c5b94",
   "metadata": {},
   "outputs": [
    {
     "data": {
      "text/latex": [
       "$\\displaystyle \\frac{x^{2} - 4}{x^{2} - 1}$"
      ],
      "text/plain": [
       "(x**2 - 4)/(x**2 - 1)"
      ]
     },
     "execution_count": 350,
     "metadata": {},
     "output_type": "execute_result"
    }
   ],
   "source": [
    "cancel((x**4 + x**3 - 4*x**2 - 4*x) / (x**4 + x**3 - x**2 - x))"
   ]
  },
  {
   "cell_type": "code",
   "execution_count": 354,
   "id": "47933416-a320-4bfb-b533-f7c9fdbf943c",
   "metadata": {},
   "outputs": [
    {
     "data": {
      "text/latex": [
       "$\\displaystyle \\frac{- 2 a^{2} - 6 a - 4 b - 7}{2 a b - 7 a - b^{2} + 5}$"
      ],
      "text/plain": [
       "(-2*a**2 - 6*a - 4*b - 7)/(2*a*b - 7*a - b**2 + 5)"
      ]
     },
     "execution_count": 354,
     "metadata": {},
     "output_type": "execute_result"
    }
   ],
   "source": [
    "a = Symbol('a')\n",
    "b = Symbol('b')\n",
    "\n",
    "cancel((2*a**3 + 22*a*b + 6*a**2 + 7*a + 6*b*a**2 + 12*b**2 + 21*b) / (7*a**2 - 5*a*b**2 - 2*b*a**2 - 5*a + 21*a*b + 3*b**3 - 15*b))"
   ]
  },
  {
   "cell_type": "markdown",
   "id": "7aeea5bd-a3e4-41df-8999-af6615c57562",
   "metadata": {},
   "source": [
    "## Partial Fraction Decomposition\n",
    "\n",
    "In SymPy, you can compute the partial fraction decomposition using `apart`.\n",
    "\n",
    "The partial fraction decomposition is useful for finding the integrals with fractions."
   ]
  },
  {
   "cell_type": "markdown",
   "id": "705781ae-3908-4382-9412-1a10142cce11",
   "metadata": {},
   "source": [
    "### Exercises\n",
    "\n",
    "Compute the partial fraction decomposition of the following rational functions\n",
    "\n",
    "(and try to verify the correctness of answer with methods you have learned so far)\n",
    "\n",
    "- `(x**5 - 1) / (x**4 - x**2)`\n",
    "- `(x**2 + 1) / (x + 2) / (x - 1) / (x**2 + x + 1)`\n",
    "- `(x**2 - 1) / (x + 2) / (x - 1) / (x**2 + x + 1)`"
   ]
  },
  {
   "cell_type": "markdown",
   "id": "2602c32f-6395-4240-aef1-fcd50b3cf98f",
   "metadata": {},
   "source": [
    "# Exponential and Logarithms"
   ]
  },
  {
   "cell_type": "markdown",
   "id": "f31053ca-2f7f-49ab-8920-e16b4bb710cb",
   "metadata": {},
   "source": [
    "## Power Expansion"
   ]
  },
  {
   "cell_type": "markdown",
   "id": "94f6e231-ce9c-43fa-9d06-4f5ff52cd8ae",
   "metadata": {},
   "source": [
    "Similar as polynomial expansion, `expand` can be used to expand the addition of the exponents\n",
    "as multiplication.\n",
    "\n",
    "$$a^{x + y} \\to a^x a^y$$\n",
    "\n",
    "(you can use `expand_power_exp` to be more specific)"
   ]
  },
  {
   "cell_type": "code",
   "execution_count": 52,
   "id": "ad780c78-8ca7-4f72-8789-4970e9d81101",
   "metadata": {},
   "outputs": [
    {
     "data": {
      "text/latex": [
       "$\\displaystyle e^{2 x} e^{y}$"
      ],
      "text/plain": [
       "exp(2*x)*exp(y)"
      ]
     },
     "execution_count": 52,
     "metadata": {},
     "output_type": "execute_result"
    }
   ],
   "source": [
    "x, y = symbols('x y')\n",
    "expand(exp(2*x + y))"
   ]
  },
  {
   "cell_type": "code",
   "execution_count": 67,
   "id": "222785e7-3ca2-4abf-847a-c40aa1ba9281",
   "metadata": {},
   "outputs": [
    {
     "data": {
      "text/latex": [
       "$\\displaystyle e^{2 x} e^{3 y} e^{2 x e^{2 x}} e^{3 y e^{2 x}}$"
      ],
      "text/plain": [
       "exp(2*x)*exp(3*y)*exp(2*x*exp(2*x))*exp(3*y*exp(2*x))"
      ]
     },
     "execution_count": 67,
     "metadata": {},
     "output_type": "execute_result"
    }
   ],
   "source": [
    "expand(exp((exp(2*x) + 1) * (2*x + 3*y)))"
   ]
  },
  {
   "cell_type": "markdown",
   "id": "4e0c9a5e-a1ba-48a0-ac6d-9e73bb64bc5d",
   "metadata": {},
   "source": [
    "## Log Expansion\n",
    "\n",
    "Using the identities\n",
    "\n",
    "$$\\log(xy) = \\log(x) + \\log(y)$$\n",
    "$$\\log(x^n) = n \\log(x)$$\n",
    "\n",
    "You can expand the logarithmic expressions in SymPy using `expand_log`"
   ]
  },
  {
   "cell_type": "code",
   "execution_count": 292,
   "id": "3b6badf3-4cab-43e2-be5d-671e2da991da",
   "metadata": {},
   "outputs": [
    {
     "data": {
      "text/latex": [
       "$\\displaystyle \\log{\\left(x \\right)} + \\log{\\left(2 \\right)}$"
      ],
      "text/plain": [
       "log(x) + log(2)"
      ]
     },
     "execution_count": 292,
     "metadata": {},
     "output_type": "execute_result"
    }
   ],
   "source": [
    "x = Symbol('x')\n",
    "expand_log(log(2*x))"
   ]
  },
  {
   "cell_type": "markdown",
   "id": "1fdbbbd2-85e9-4c94-a87b-bdcb2f7842a1",
   "metadata": {},
   "source": [
    "However, you notice that the examples are not working as intended"
   ]
  },
  {
   "cell_type": "code",
   "execution_count": 293,
   "id": "06349ddf-6733-410a-9f2a-79f66820a9e0",
   "metadata": {},
   "outputs": [
    {
     "data": {
      "text/latex": [
       "$\\displaystyle \\log{\\left(x^{2} \\right)}$"
      ],
      "text/plain": [
       "log(x**2)"
      ]
     },
     "execution_count": 293,
     "metadata": {},
     "output_type": "execute_result"
    }
   ],
   "source": [
    "x = Symbol('x')\n",
    "expand_log(log(x**2))"
   ]
  },
  {
   "cell_type": "code",
   "execution_count": 294,
   "id": "b6b60995-d5dc-4ac0-ad84-bc7f653cf91f",
   "metadata": {},
   "outputs": [
    {
     "data": {
      "text/latex": [
       "$\\displaystyle \\log{\\left(x y \\right)}$"
      ],
      "text/plain": [
       "log(x*y)"
      ]
     },
     "execution_count": 294,
     "metadata": {},
     "output_type": "execute_result"
    }
   ],
   "source": [
    "x = Symbol('x')\n",
    "y = Symbol('y')\n",
    "expand_log(log(x*y))"
   ]
  },
  {
   "cell_type": "markdown",
   "id": "6f48fa5c-f75c-4f26-b171-57d9e50bc753",
   "metadata": {},
   "source": [
    "It is because you need assumptions system, to be explained."
   ]
  },
  {
   "cell_type": "markdown",
   "id": "c4e9b417-28dc-4641-a4cf-ad0fb60e0163",
   "metadata": {},
   "source": [
    "## Assumptions"
   ]
  },
  {
   "cell_type": "markdown",
   "id": "512e0878-cf82-4cf3-a8e8-51b1c8035dcf",
   "metadata": {},
   "source": [
    "A lot of mathematical identities  with exponentials, logarithms, and square roots you learned in high school\n",
    "\n",
    "$$(a^x)^y = a^{xy}$$\n",
    "$$a^x b^x = (ab)^x$$\n",
    "$$\\sqrt{x}\\sqrt{y} = \\sqrt{x y}$$\n",
    "$$\\sqrt{x^2} = |x|$$\n",
    "$$\\log(x y) = \\log(x) + \\log(y)$$\n",
    "$$\\log(e^x) = x$$\n",
    "\n",
    "does not hold in complex analysis due to the branch cuts.\n",
    "\n",
    "(I've noted in previous section that SymPy functions are functions work very generally with complex numbers.)"
   ]
  },
  {
   "cell_type": "markdown",
   "id": "ee8a6c86-b64f-456e-9c91-7df72d3ca9e5",
   "metadata": {},
   "source": [
    "Here is a counter-example of how $\\sqrt{-1}\\sqrt{-1} \\ne \\sqrt{-1 \\times -1}$"
   ]
  },
  {
   "cell_type": "code",
   "execution_count": 185,
   "id": "94d56b4f-a1ef-4348-bafa-617cd0e4e1f2",
   "metadata": {},
   "outputs": [
    {
     "data": {
      "text/latex": [
       "$\\displaystyle -1.0$"
      ],
      "text/plain": [
       "-1.00000000000000"
      ]
     },
     "execution_count": 185,
     "metadata": {},
     "output_type": "execute_result"
    }
   ],
   "source": [
    "(sqrt(-1) * sqrt(-1)).evalf()"
   ]
  },
  {
   "cell_type": "code",
   "execution_count": 187,
   "id": "ae0b7c87-6ff3-418f-966b-3296edddeb62",
   "metadata": {},
   "outputs": [
    {
     "data": {
      "text/latex": [
       "$\\displaystyle 1.0$"
      ],
      "text/plain": [
       "1.00000000000000"
      ]
     },
     "execution_count": 187,
     "metadata": {},
     "output_type": "execute_result"
    }
   ],
   "source": [
    "sqrt(-1 * -1).evalf()"
   ]
  },
  {
   "cell_type": "markdown",
   "id": "e49a3f25-e335-4ab2-a2eb-87a7774e1583",
   "metadata": {},
   "source": [
    "### Exercises\n",
    "\n",
    "Try to find the counter examples of the identities using SymPy numeric evaluation:\n",
    "\n",
    "$$(a^x)^y = a^{xy}$$\n",
    "$$a^x b^x = (ab)^x$$\n",
    "$$\\sqrt{x}\\sqrt{y} = \\sqrt{x y}$$\n",
    "$$\\sqrt{x^2} = |x|$$\n",
    "$$\\log(x y) = \\log(x) + \\log(y)$$\n",
    "$$\\log(e^x) = x$$"
   ]
  },
  {
   "cell_type": "code",
   "execution_count": null,
   "id": "f4e423e4-5067-49df-a368-072ac0548c0d",
   "metadata": {},
   "outputs": [],
   "source": []
  },
  {
   "cell_type": "markdown",
   "id": "1fbbc06a-3aa6-480d-840b-4a9b1fe46604",
   "metadata": {},
   "source": [
    "If you want the functions to be more specific, like to be defined over real or positive numbers,\n",
    "\n",
    "You need to use the assumptions when creating the symbols\n",
    "\n",
    "which can be given as the following:"
   ]
  },
  {
   "cell_type": "code",
   "execution_count": 179,
   "id": "c2114a57-a1b4-409f-aa21-4d3cc264935d",
   "metadata": {},
   "outputs": [
    {
     "data": {
      "text/latex": [
       "$\\displaystyle x$"
      ],
      "text/plain": [
       "x"
      ]
     },
     "execution_count": 179,
     "metadata": {},
     "output_type": "execute_result"
    }
   ],
   "source": [
    "Symbol('x', real=True)\n",
    "Symbol('x', positive=True)"
   ]
  },
  {
   "cell_type": "markdown",
   "id": "e4b30593-3e5c-49dd-a056-37a8e9f8ce6c",
   "metadata": {},
   "source": [
    "The assumptions system uses some rule-based inference algorithm \n",
    "\n",
    "to derive the mathematical domain of the formula, which can be useful."
   ]
  },
  {
   "cell_type": "code",
   "execution_count": 176,
   "id": "51f2ca30-ab19-470e-9b8b-70c5acf49d3a",
   "metadata": {},
   "outputs": [
    {
     "data": {
      "text/plain": [
       "True"
      ]
     },
     "execution_count": 176,
     "metadata": {},
     "output_type": "execute_result"
    }
   ],
   "source": [
    "x = Symbol('x', real=True)\n",
    "(x**2 + 1).is_positive"
   ]
  },
  {
   "cell_type": "code",
   "execution_count": 177,
   "id": "f61c58e8-5901-449c-acc5-c03f519af7f0",
   "metadata": {},
   "outputs": [
    {
     "data": {
      "text/plain": [
       "True"
      ]
     },
     "execution_count": 177,
     "metadata": {},
     "output_type": "execute_result"
    }
   ],
   "source": [
    "x = Symbol('x', positive=True)\n",
    "(x + 1).is_positive"
   ]
  },
  {
   "cell_type": "markdown",
   "id": "e91939a8-94ff-405a-806c-42deedb119ce",
   "metadata": {},
   "source": [
    "If the assumptions system are not sure,\n",
    "\n",
    "it tries to mark the truth value as unknown (`None`)\n",
    "\n",
    "other than trying to jump into unsound guess."
   ]
  },
  {
   "cell_type": "code",
   "execution_count": 178,
   "id": "1e24bf4a-8430-4f8d-901d-c9235623bb1c",
   "metadata": {},
   "outputs": [],
   "source": [
    "(x - 1).is_positive"
   ]
  },
  {
   "cell_type": "markdown",
   "id": "ce5a70db-5697-4989-b4ab-7a5e729ec4c9",
   "metadata": {},
   "source": [
    "So if you see that simplification does not work as intended,\n",
    "\n",
    "you'd need to check if you have missing assumptions."
   ]
  },
  {
   "cell_type": "markdown",
   "id": "6ea580f7-a42a-452f-bc14-c074cc63399e",
   "metadata": {},
   "source": [
    "Given the positive assumptions, you can finally see that `expand_log` are working"
   ]
  },
  {
   "cell_type": "code",
   "execution_count": 295,
   "id": "923e126b-71fd-4d1f-bc8a-fcfd29d7d3f5",
   "metadata": {},
   "outputs": [
    {
     "data": {
      "text/latex": [
       "$\\displaystyle \\log{\\left(x \\right)} + \\log{\\left(y \\right)}$"
      ],
      "text/plain": [
       "log(x) + log(y)"
      ]
     },
     "execution_count": 295,
     "metadata": {},
     "output_type": "execute_result"
    }
   ],
   "source": [
    "x = Symbol('x', positive=True)\n",
    "y = Symbol('y', positive=True)\n",
    "expand_log(log(x*y))"
   ]
  },
  {
   "cell_type": "markdown",
   "id": "f0a22a0e-cfa8-4854-be8c-d52b0314e07a",
   "metadata": {},
   "source": [
    "## Log Reduction\n",
    "\n",
    "Using the identities\n",
    "\n",
    "$$\\log(x) + \\log(y) = \\log(xy)$$\n",
    "$$n \\log(x) = \\log(x^n)$$\n",
    "\n",
    "You can combine the logarithmic expressions in SymPy using `logcombine`"
   ]
  },
  {
   "cell_type": "markdown",
   "id": "1e5fa8ea-5d2e-4e29-867b-be9a86fcb756",
   "metadata": {},
   "source": [
    "### Exercises\n",
    "\n",
    "Simplify the logarithmic expressions.\n",
    "(Try to use the assumptions if necessary)\n",
    "\n",
    "- `3*log(2) - 2*log(3)`\n",
    "- `log(81*x**12)/2 + log(2*x**2)`\n",
    "- `5*log(x) + 2*log(4*x) - log(8*x**5)`"
   ]
  },
  {
   "cell_type": "code",
   "execution_count": 257,
   "id": "abf4e12a-1334-46a8-b076-a2bfa5d42f26",
   "metadata": {},
   "outputs": [
    {
     "data": {
      "text/latex": [
       "$\\displaystyle \\log{\\left(\\frac{8}{9} \\right)}$"
      ],
      "text/plain": [
       "log(8/9)"
      ]
     },
     "execution_count": 257,
     "metadata": {},
     "output_type": "execute_result"
    }
   ],
   "source": [
    "logcombine(3*log(2) - 2*log(3))"
   ]
  },
  {
   "cell_type": "code",
   "execution_count": 269,
   "id": "81e92873-e1a3-47dd-b041-dd95525b486c",
   "metadata": {},
   "outputs": [
    {
     "data": {
      "text/latex": [
       "$\\displaystyle \\log{\\left(18 x^{8} \\right)}$"
      ],
      "text/plain": [
       "log(18*x**8)"
      ]
     },
     "execution_count": 269,
     "metadata": {},
     "output_type": "execute_result"
    }
   ],
   "source": [
    "x = Symbol('x', positive=True)\n",
    "logcombine(log(81*x**12)/2 + log(2*x**2))"
   ]
  },
  {
   "cell_type": "code",
   "execution_count": 264,
   "id": "e2fffc2d-5a29-493e-bed4-241a33180f50",
   "metadata": {},
   "outputs": [
    {
     "data": {
      "text/latex": [
       "$\\displaystyle \\log{\\left(2 x^{2} \\right)}$"
      ],
      "text/plain": [
       "log(2*x**2)"
      ]
     },
     "execution_count": 264,
     "metadata": {},
     "output_type": "execute_result"
    }
   ],
   "source": [
    "x = Symbol('x', positive=True)\n",
    "logcombine(5*log(x) + 2*log(4*x) - log(8*x**5))"
   ]
  },
  {
   "cell_type": "markdown",
   "id": "723c1fd4-ab74-42e3-863b-34b7a6657440",
   "metadata": {},
   "source": [
    "# Trigonometry"
   ]
  },
  {
   "cell_type": "markdown",
   "id": "91e89894-d16f-44ba-82de-155c00836e13",
   "metadata": {},
   "source": [
    "## Trigonometric Expansion\n",
    "\n",
    "Trigonometric expansion expresses trigononmetric functions as sum-of-product form \n",
    "\n",
    "by applying addition and multiple angle formulas.\n",
    "\n",
    "$$\\sin(x + y) = \\sin(x)\\cos(y) + \\cos(x)\\sin(y)$$\n",
    "$$\\cos(x + y) = \\cos(x)\\cos(y) - \\sin(x)\\sin(y)$$\n",
    "$$\\cos(2x) = \\cos(x)^2 - \\sin(x)^2$$\n",
    "$$\\sin(2x) = 2\\sin(x)\\cos(x)$$\n",
    "\n",
    "In SymPy, you can use `expand_trig`"
   ]
  },
  {
   "cell_type": "markdown",
   "id": "a8c99781-4eae-4ccf-a3f7-dada478f9074",
   "metadata": {},
   "source": [
    "### Exercises\n",
    "\n",
    "Expand the trigonometric functions\n",
    "\n",
    "- `cos(3*x)`\n",
    "- `cos(2*x - 2*y)`\n",
    "- `sin(6*x)`\n",
    "- `tan(x + y)`\n",
    "- `sin(x + y)*sin(x - y)`"
   ]
  },
  {
   "cell_type": "code",
   "execution_count": 189,
   "id": "e7af5589-a0f5-48fd-a4e2-972a015f73c1",
   "metadata": {},
   "outputs": [
    {
     "data": {
      "text/latex": [
       "$\\displaystyle 4 \\cos^{3}{\\left(x \\right)} - 3 \\cos{\\left(x \\right)}$"
      ],
      "text/plain": [
       "4*cos(x)**3 - 3*cos(x)"
      ]
     },
     "execution_count": 189,
     "metadata": {},
     "output_type": "execute_result"
    }
   ],
   "source": [
    "expand_trig(cos(3*x))"
   ]
  },
  {
   "cell_type": "code",
   "execution_count": 190,
   "id": "2a0b5ad1-79ac-45e9-921b-baf0b0833344",
   "metadata": {},
   "outputs": [
    {
     "data": {
      "text/latex": [
       "$\\displaystyle \\left(2 \\cos^{2}{\\left(x \\right)} - 1\\right) \\left(2 \\cos^{2}{\\left(y \\right)} - 1\\right) + 4 \\sin{\\left(x \\right)} \\sin{\\left(y \\right)} \\cos{\\left(x \\right)} \\cos{\\left(y \\right)}$"
      ],
      "text/plain": [
       "(2*cos(x)**2 - 1)*(2*cos(y)**2 - 1) + 4*sin(x)*sin(y)*cos(x)*cos(y)"
      ]
     },
     "execution_count": 190,
     "metadata": {},
     "output_type": "execute_result"
    }
   ],
   "source": [
    "expand_trig(cos(2*x - 2*y))"
   ]
  },
  {
   "cell_type": "code",
   "execution_count": 191,
   "id": "c2fdf097-3e92-4990-bc23-f846e5d8632d",
   "metadata": {},
   "outputs": [
    {
     "data": {
      "text/latex": [
       "$\\displaystyle 32 \\sin^{5}{\\left(x \\right)} \\cos{\\left(x \\right)} - 32 \\sin^{3}{\\left(x \\right)} \\cos{\\left(x \\right)} + 6 \\sin{\\left(x \\right)} \\cos{\\left(x \\right)}$"
      ],
      "text/plain": [
       "32*sin(x)**5*cos(x) - 32*sin(x)**3*cos(x) + 6*sin(x)*cos(x)"
      ]
     },
     "execution_count": 191,
     "metadata": {},
     "output_type": "execute_result"
    }
   ],
   "source": [
    "expand_trig(sin(6*x))"
   ]
  },
  {
   "cell_type": "code",
   "execution_count": 214,
   "id": "b1c3ab98-14e7-45fd-af98-95032e7543e1",
   "metadata": {},
   "outputs": [
    {
     "data": {
      "text/latex": [
       "$\\displaystyle \\frac{\\tan{\\left(x \\right)} + \\tan{\\left(y \\right)}}{- \\tan{\\left(x \\right)} \\tan{\\left(y \\right)} + 1}$"
      ],
      "text/plain": [
       "(tan(x) + tan(y))/(-tan(x)*tan(y) + 1)"
      ]
     },
     "execution_count": 214,
     "metadata": {},
     "output_type": "execute_result"
    }
   ],
   "source": [
    "expand_trig(tan(x + y))"
   ]
  },
  {
   "cell_type": "code",
   "execution_count": 235,
   "id": "cf956160-37b3-42e0-9a5e-2d03010b6997",
   "metadata": {},
   "outputs": [
    {
     "data": {
      "text/latex": [
       "$\\displaystyle \\left(\\sin{\\left(x \\right)} \\cos{\\left(y \\right)} - \\sin{\\left(y \\right)} \\cos{\\left(x \\right)}\\right) \\left(\\sin{\\left(x \\right)} \\cos{\\left(y \\right)} + \\sin{\\left(y \\right)} \\cos{\\left(x \\right)}\\right)$"
      ],
      "text/plain": [
       "(sin(x)*cos(y) - sin(y)*cos(x))*(sin(x)*cos(y) + sin(y)*cos(x))"
      ]
     },
     "execution_count": 235,
     "metadata": {},
     "output_type": "execute_result"
    }
   ],
   "source": [
    "expand_trig(sin(x + y)*sin(x - y))"
   ]
  },
  {
   "cell_type": "markdown",
   "id": "258f2df7-1f3a-412d-a9cd-e2aac5d30d58",
   "metadata": {},
   "source": [
    "## Trigonometric Simplification\n",
    "\n",
    "`trigsimp` tries to apply every trigonometric identities heuristically\n",
    "\n",
    "(https://en.wikipedia.org/wiki/List_of_trigonometric_identities)\n",
    "\n",
    "to simplify the trigonometric function."
   ]
  },
  {
   "cell_type": "markdown",
   "id": "5415a5bc-749a-49d7-9f13-46ac416fb314",
   "metadata": {},
   "source": [
    "### Exercises\n",
    "\n",
    "Simplify the trigonometric functions\n",
    "\n",
    "- `1 - sin(2*x)**2/4 - sin(y)**2 - cos(x)**4`\n",
    "- `sin(x + pi/6) - sqrt(3)/2*sin(x) - sin(x)/2`\n",
    "- `sin(x)**4 - 2*cos(x)**2*sin(x)**2 + cos(x)**4`"
   ]
  },
  {
   "cell_type": "code",
   "execution_count": 379,
   "id": "bf2ce661-30a5-443b-942b-78c19ee93918",
   "metadata": {},
   "outputs": [
    {
     "data": {
      "text/latex": [
       "$\\displaystyle \\sin^{2}{\\left(x \\right)} - \\sin^{2}{\\left(y \\right)}$"
      ],
      "text/plain": [
       "sin(x)**2 - sin(y)**2"
      ]
     },
     "execution_count": 379,
     "metadata": {},
     "output_type": "execute_result"
    }
   ],
   "source": [
    "trigsimp(1 - sin(2*x)**2/4 - sin(y)**2 - cos(x)**4)"
   ]
  },
  {
   "cell_type": "code",
   "execution_count": 230,
   "id": "057146ce-d0db-42db-bad4-aa8d0db8a326",
   "metadata": {},
   "outputs": [
    {
     "data": {
      "text/latex": [
       "$\\displaystyle \\frac{\\sqrt{2} \\cos{\\left(x + \\frac{\\pi}{4} \\right)}}{2}$"
      ],
      "text/plain": [
       "sqrt(2)*cos(x + pi/4)/2"
      ]
     },
     "execution_count": 230,
     "metadata": {},
     "output_type": "execute_result"
    }
   ],
   "source": [
    "trigsimp(sin(x + pi/6) - sqrt(3)/2*sin(x) - sin(x)/2)"
   ]
  },
  {
   "cell_type": "code",
   "execution_count": 246,
   "id": "0d903b7b-3e62-48ee-a44c-ff579eaf1bc0",
   "metadata": {},
   "outputs": [
    {
     "data": {
      "text/latex": [
       "$\\displaystyle \\frac{\\cos{\\left(4 x \\right)}}{2} + \\frac{1}{2}$"
      ],
      "text/plain": [
       "cos(4*x)/2 + 1/2"
      ]
     },
     "execution_count": 246,
     "metadata": {},
     "output_type": "execute_result"
    }
   ],
   "source": [
    "trigsimp(sin(x)**4 - 2*cos(x)**2*sin(x)**2 + cos(x)**4)"
   ]
  },
  {
   "cell_type": "markdown",
   "id": "dd8ff0e1-118e-423a-becd-077f68bd9649",
   "metadata": {},
   "source": [
    "(We'd note that `trigsimp` quite a challenging problem in computer algebra, and not many examples are working)"
   ]
  },
  {
   "cell_type": "markdown",
   "id": "7236d39e-ebde-4e2d-91bd-55c9c14df86a",
   "metadata": {},
   "source": [
    "# Algebraic Functions"
   ]
  },
  {
   "cell_type": "markdown",
   "id": "5ed7eff6-ef6a-4334-ab5a-cb875cd9d578",
   "metadata": {},
   "source": [
    "## Denominator Rationalization"
   ]
  },
  {
   "cell_type": "markdown",
   "id": "f57369d4-4865-4770-8236-7a4e4b45c395",
   "metadata": {},
   "source": [
    "`radsimp` can be used to rationalize the denominator\n",
    "\n",
    "(Getting rid of square roots in the denominator)\n",
    "\n",
    "It is often useful for computing the limits."
   ]
  },
  {
   "cell_type": "markdown",
   "id": "35cf5204-4da1-4f71-b7ab-1f3dbc1fbd88",
   "metadata": {},
   "source": [
    "### Exercises\n",
    "\n",
    "Rationalize the denominators\n",
    "\n",
    "- `1 / (sqrt(5) - sqrt(3))`\n",
    "- `1 / (sqrt(7) - sqrt(11) + sqrt(13))`\n",
    "- `1 / (2*sqrt(2)*sqrt(5) - 3*sqrt(2)*sqrt(3) + sqrt(3)*sqrt(5))`"
   ]
  },
  {
   "cell_type": "code",
   "execution_count": 155,
   "id": "0ad9bee5-de79-4d03-8be4-d8af5efdbacb",
   "metadata": {},
   "outputs": [
    {
     "data": {
      "text/latex": [
       "$\\displaystyle \\frac{\\sqrt{3} + \\sqrt{5}}{2}$"
      ],
      "text/plain": [
       "(sqrt(3) + sqrt(5))/2"
      ]
     },
     "execution_count": 155,
     "metadata": {},
     "output_type": "execute_result"
    }
   ],
   "source": [
    "radsimp(1 / (sqrt(5) - sqrt(3)))"
   ]
  },
  {
   "cell_type": "code",
   "execution_count": 156,
   "id": "37b24041-abe1-4036-930e-fb96ab7f282f",
   "metadata": {},
   "outputs": [
    {
     "data": {
      "text/latex": [
       "$\\displaystyle \\frac{- 9 \\sqrt{11} + 5 \\sqrt{13} + 17 \\sqrt{7} + 2 \\sqrt{1001}}{283}$"
      ],
      "text/plain": [
       "(-9*sqrt(11) + 5*sqrt(13) + 17*sqrt(7) + 2*sqrt(1001))/283"
      ]
     },
     "execution_count": 156,
     "metadata": {},
     "output_type": "execute_result"
    }
   ],
   "source": [
    "radsimp(1 / (sqrt(7) - sqrt(11) + sqrt(13)))"
   ]
  },
  {
   "cell_type": "code",
   "execution_count": 157,
   "id": "95677b91-b307-473b-a16d-57a81b7e6f11",
   "metadata": {},
   "outputs": [
    {
     "data": {
      "text/latex": [
       "$\\displaystyle \\frac{- 3 \\sqrt{6} + 58 \\sqrt{10} + 79 \\sqrt{15} + 360}{2399}$"
      ],
      "text/plain": [
       "(-3*sqrt(6) + 58*sqrt(10) + 79*sqrt(15) + 360)/2399"
      ]
     },
     "execution_count": 157,
     "metadata": {},
     "output_type": "execute_result"
    }
   ],
   "source": [
    "radsimp(1 / (2*sqrt(2)*sqrt(5) - 3*sqrt(2)*sqrt(3) + sqrt(3)*sqrt(5)))"
   ]
  },
  {
   "cell_type": "markdown",
   "id": "f45b1392-8764-425c-b320-495036b9901a",
   "metadata": {},
   "source": [
    "(Rationalizing cubic roots is not supported yet)"
   ]
  },
  {
   "cell_type": "markdown",
   "id": "0c8dcc0d-7029-44bc-b081-3f681648593a",
   "metadata": {},
   "source": [
    "## Square Root Denesting"
   ]
  },
  {
   "cell_type": "markdown",
   "id": "19644b32-5a47-48c2-b258-2af196be93db",
   "metadata": {},
   "source": [
    "Given a double radical expressions like $\\sqrt{3 + 2\\sqrt{3}}$, \n",
    "\n",
    "`sqrtdenest` can be used express such square roots inside square roots, as a sum of square roots."
   ]
  },
  {
   "cell_type": "markdown",
   "id": "74d358ac-7054-48a1-8f65-2b5bf743afc7",
   "metadata": {},
   "source": [
    "### Exercises"
   ]
  },
  {
   "cell_type": "markdown",
   "id": "e0cacbbc-99c0-4c24-9dcf-5a84638037d3",
   "metadata": {},
   "source": [
    "Denest the following square roots:\n",
    "\n",
    "- `sqrt(37 + 20*sqrt(3))`\n",
    "- `sqrt(107 - 12*sqrt(77))`\n",
    "- `sqrt(12 + 2*sqrt(6) + 2*sqrt(14) + 2*sqrt(21))`\n",
    "- `sqrt(x + sqrt(x**2 - 1))`"
   ]
  },
  {
   "cell_type": "code",
   "execution_count": 22,
   "id": "125db4b9-5e5d-43d8-aa90-839e7bc96d53",
   "metadata": {},
   "outputs": [
    {
     "data": {
      "text/latex": [
       "$\\displaystyle 2 \\sqrt{3} + 5$"
      ],
      "text/plain": [
       "2*sqrt(3) + 5"
      ]
     },
     "execution_count": 22,
     "metadata": {},
     "output_type": "execute_result"
    }
   ],
   "source": [
    "sqrtdenest(sqrt(37 + 20*sqrt(3)))"
   ]
  },
  {
   "cell_type": "code",
   "execution_count": 23,
   "id": "f158629b-ef9b-4269-96dd-6abbf790b798",
   "metadata": {},
   "outputs": [
    {
     "data": {
      "text/latex": [
       "$\\displaystyle - 2 \\sqrt{11} + 3 \\sqrt{7}$"
      ],
      "text/plain": [
       "-2*sqrt(11) + 3*sqrt(7)"
      ]
     },
     "execution_count": 23,
     "metadata": {},
     "output_type": "execute_result"
    }
   ],
   "source": [
    "sqrtdenest(sqrt(107 - 12*sqrt(77)))"
   ]
  },
  {
   "cell_type": "code",
   "execution_count": 28,
   "id": "8d300465-326a-4370-8c31-30583b5f3d07",
   "metadata": {},
   "outputs": [
    {
     "data": {
      "text/latex": [
       "$\\displaystyle \\sqrt{2} + \\sqrt{3} + \\sqrt{7}$"
      ],
      "text/plain": [
       "sqrt(2) + sqrt(3) + sqrt(7)"
      ]
     },
     "execution_count": 28,
     "metadata": {},
     "output_type": "execute_result"
    }
   ],
   "source": [
    "sqrtdenest(sqrt(12 + 2*sqrt(6) + 2*sqrt(14) + 2*sqrt(21)))"
   ]
  },
  {
   "cell_type": "code",
   "execution_count": 34,
   "id": "1995634f-dba1-4ea8-9ec7-d023e79ec17e",
   "metadata": {},
   "outputs": [
    {
     "data": {
      "text/latex": [
       "$\\displaystyle \\frac{\\sqrt{2} \\sqrt{x - 1}}{2} + \\frac{\\sqrt{2} \\sqrt{x + 1}}{2}$"
      ],
      "text/plain": [
       "sqrt(2)*sqrt(x - 1)/2 + sqrt(2)*sqrt(x + 1)/2"
      ]
     },
     "execution_count": 34,
     "metadata": {},
     "output_type": "execute_result"
    }
   ],
   "source": [
    "x = Symbol('x', positive=True)\n",
    "sqrtdenest(sqrt(x + sqrt(x**2 - 1)))"
   ]
  },
  {
   "cell_type": "markdown",
   "id": "fb3d1cc4-1b76-4872-b1c2-0fed87011240",
   "metadata": {},
   "source": [
    "# Complex Expansion\n",
    "\n",
    "In complex analysis, it is often useful to decompose a number using the complex identity:\n",
    "\n",
    "$$x = \\Re(x) + \\Im(x) i$$\n",
    "\n",
    "and work on the numbers with forced assumptions that each components are real.\n",
    "\n",
    "In SymPy, you can use `expand_complex` to do that."
   ]
  },
  {
   "cell_type": "code",
   "execution_count": 278,
   "id": "6b1a47b9-351b-4100-bafc-56319799747d",
   "metadata": {},
   "outputs": [
    {
     "data": {
      "text/latex": [
       "$\\displaystyle \\sin{\\left(\\operatorname{re}{\\left(z\\right)} \\right)} \\cosh{\\left(\\operatorname{im}{\\left(z\\right)} \\right)} + i \\cos{\\left(\\operatorname{re}{\\left(z\\right)} \\right)} \\sinh{\\left(\\operatorname{im}{\\left(z\\right)} \\right)}$"
      ],
      "text/plain": [
       "sin(re(z))*cosh(im(z)) + I*cos(re(z))*sinh(im(z))"
      ]
     },
     "execution_count": 278,
     "metadata": {},
     "output_type": "execute_result"
    }
   ],
   "source": [
    "z = Symbol('z')\n",
    "expand_complex(sin(z))"
   ]
  },
  {
   "cell_type": "code",
   "execution_count": 279,
   "id": "f6c71463-2d44-4012-aa91-a7fb5928baf9",
   "metadata": {},
   "outputs": [
    {
     "data": {
      "text/latex": [
       "$\\displaystyle i e^{\\operatorname{re}{\\left(z\\right)}} \\sin{\\left(\\operatorname{im}{\\left(z\\right)} \\right)} + e^{\\operatorname{re}{\\left(z\\right)}} \\cos{\\left(\\operatorname{im}{\\left(z\\right)} \\right)}$"
      ],
      "text/plain": [
       "I*exp(re(z))*sin(im(z)) + exp(re(z))*cos(im(z))"
      ]
     },
     "execution_count": 279,
     "metadata": {},
     "output_type": "execute_result"
    }
   ],
   "source": [
    "expand_complex(exp(z))"
   ]
  },
  {
   "cell_type": "code",
   "execution_count": 280,
   "id": "6c4f9c7b-ebdc-4542-89b2-06e838ca0678",
   "metadata": {},
   "outputs": [
    {
     "data": {
      "text/latex": [
       "$\\displaystyle \\sqrt{\\left(\\operatorname{re}{\\left(z\\right)}\\right)^{2} + \\left(\\operatorname{im}{\\left(z\\right)}\\right)^{2}}$"
      ],
      "text/plain": [
       "sqrt(re(z)**2 + im(z)**2)"
      ]
     },
     "execution_count": 280,
     "metadata": {},
     "output_type": "execute_result"
    }
   ],
   "source": [
    "expand_complex(abs(z))"
   ]
  },
  {
   "cell_type": "code",
   "execution_count": 281,
   "id": "e109005b-02d0-49d4-9e59-190b1f2be9fc",
   "metadata": {},
   "outputs": [
    {
     "data": {
      "text/latex": [
       "$\\displaystyle \\left(\\operatorname{re}{\\left(z\\right)}\\right)^{5} - 10 \\left(\\operatorname{re}{\\left(z\\right)}\\right)^{3} \\left(\\operatorname{im}{\\left(z\\right)}\\right)^{2} - 2 \\left(\\operatorname{re}{\\left(z\\right)}\\right)^{3} + 5 \\operatorname{re}{\\left(z\\right)} \\left(\\operatorname{im}{\\left(z\\right)}\\right)^{4} + 6 \\operatorname{re}{\\left(z\\right)} \\left(\\operatorname{im}{\\left(z\\right)}\\right)^{2} - \\operatorname{re}{\\left(z\\right)} + 1$"
      ],
      "text/plain": [
       "re(z)**5 - 10*re(z)**3*im(z)**2 - 2*re(z)**3 + 5*re(z)*im(z)**4 + 6*re(z)*im(z)**2 - re(z) + 1"
      ]
     },
     "execution_count": 281,
     "metadata": {},
     "output_type": "execute_result"
    }
   ],
   "source": [
    "expand_complex(re(z**5 - 2*z**3 - z + 1))"
   ]
  },
  {
   "cell_type": "markdown",
   "id": "e69791ca-6096-4a3c-9a4d-d5ff760b0b90",
   "metadata": {},
   "source": [
    "# Working with Simplify"
   ]
  },
  {
   "cell_type": "markdown",
   "id": "e670c7be-0c60-4399-82a9-968bc92b5ebb",
   "metadata": {},
   "source": [
    "Let's revisit the simplification problem it fails"
   ]
  },
  {
   "cell_type": "code",
   "execution_count": 89,
   "id": "172b273e-bba5-4494-8d78-ccf660c8bee2",
   "metadata": {},
   "outputs": [
    {
     "data": {
      "text/latex": [
       "$\\displaystyle \\frac{\\sin{\\left(x \\right)} + \\sin{\\left(3 x \\right)} + \\sin{\\left(5 x \\right)} + \\sin{\\left(7 x \\right)}}{\\cos{\\left(x \\right)} + \\cos{\\left(3 x \\right)} + \\cos{\\left(5 x \\right)} + \\cos{\\left(7 x \\right)}}$"
      ],
      "text/plain": [
       "(sin(x) + sin(3*x) + sin(5*x) + sin(7*x))/(cos(x) + cos(3*x) + cos(5*x) + cos(7*x))"
      ]
     },
     "execution_count": 89,
     "metadata": {},
     "output_type": "execute_result"
    }
   ],
   "source": [
    "numer = (sin(x) + sin(3*x) + sin(5*x) + sin(7*x))\n",
    "denom = (cos(x) + cos(3*x) + cos(5*x) + cos(7*x))\n",
    "simplify(numer / denom)"
   ]
  },
  {
   "cell_type": "markdown",
   "id": "abeffd30-c684-4c97-abb4-db6218a2047c",
   "metadata": {},
   "source": [
    "In order to check the answer with $\\tan(4x)$, it's better to modify the zero test such that \n",
    "\n",
    "`expr == numer / denom` into `expr * denom - numer == 0`"
   ]
  },
  {
   "cell_type": "code",
   "execution_count": 95,
   "id": "8816ae40-2d4c-4f78-a3b2-f13940788ff6",
   "metadata": {},
   "outputs": [
    {
     "data": {
      "text/latex": [
       "$\\displaystyle \\left(\\cos{\\left(x \\right)} + \\cos{\\left(3 x \\right)} + \\cos{\\left(5 x \\right)} + \\cos{\\left(7 x \\right)}\\right) \\tan{\\left(4 x \\right)} - \\sin{\\left(x \\right)} - \\sin{\\left(3 x \\right)} - \\sin{\\left(5 x \\right)} - \\sin{\\left(7 x \\right)}$"
      ],
      "text/plain": [
       "(cos(x) + cos(3*x) + cos(5*x) + cos(7*x))*tan(4*x) - sin(x) - sin(3*x) - sin(5*x) - sin(7*x)"
      ]
     },
     "execution_count": 95,
     "metadata": {},
     "output_type": "execute_result"
    }
   ],
   "source": [
    "simplify(tan(4*x) * denom - numer)"
   ]
  },
  {
   "cell_type": "markdown",
   "id": "0d8c6572-68e8-47c9-8ed7-96d34f6d590d",
   "metadata": {},
   "source": [
    "However, that still does not work, however, looking at the expression, \n",
    "\n",
    "`expand_trig` may work better in this case to synchronize the arguments ($3x, 5x, 7x$) of trigonometric terms into $x$"
   ]
  },
  {
   "cell_type": "code",
   "execution_count": 99,
   "id": "75e52821-742f-45de-b9c1-897c34a7bb64",
   "metadata": {},
   "outputs": [
    {
     "data": {
      "text/latex": [
       "$\\displaystyle \\frac{\\left(- 4 \\tan^{3}{\\left(x \\right)} + 4 \\tan{\\left(x \\right)}\\right) \\left(64 \\cos^{7}{\\left(x \\right)} - 96 \\cos^{5}{\\left(x \\right)} + 40 \\cos^{3}{\\left(x \\right)} - 4 \\cos{\\left(x \\right)}\\right)}{\\tan^{4}{\\left(x \\right)} - 6 \\tan^{2}{\\left(x \\right)} + 1} + 64 \\sin^{7}{\\left(x \\right)} - 128 \\sin^{5}{\\left(x \\right)} + 80 \\sin^{3}{\\left(x \\right)} - 16 \\sin{\\left(x \\right)}$"
      ],
      "text/plain": [
       "(-4*tan(x)**3 + 4*tan(x))*(64*cos(x)**7 - 96*cos(x)**5 + 40*cos(x)**3 - 4*cos(x))/(tan(x)**4 - 6*tan(x)**2 + 1) + 64*sin(x)**7 - 128*sin(x)**5 + 80*sin(x)**3 - 16*sin(x)"
      ]
     },
     "execution_count": 99,
     "metadata": {},
     "output_type": "execute_result"
    }
   ],
   "source": [
    "expand_trig(tan(4*x) * denom - numer)"
   ]
  },
  {
   "cell_type": "markdown",
   "id": "70292c64-50a4-4d06-8afe-ef9924928b31",
   "metadata": {},
   "source": [
    "Although the formula is more complicated, \n",
    "\n",
    "we have arrived into a form that can be more easier to verified\n",
    "\n",
    "by using polynomial identities, and now `simplify` works."
   ]
  },
  {
   "cell_type": "code",
   "execution_count": 100,
   "id": "40a52c71-19eb-4375-8cc7-2498bcc6558f",
   "metadata": {},
   "outputs": [
    {
     "data": {
      "text/latex": [
       "$\\displaystyle 0$"
      ],
      "text/plain": [
       "0"
      ]
     },
     "execution_count": 100,
     "metadata": {},
     "output_type": "execute_result"
    }
   ],
   "source": [
    "simplify(expand_trig(tan(4*x) * denom - numer))"
   ]
  },
  {
   "cell_type": "markdown",
   "id": "bcfe8bbe-fa45-432c-a6fd-3d788d0ccf8b",
   "metadata": {},
   "source": [
    "### Exercises\n",
    "\n",
    "Explore the simplification capabilities of SymPy\n",
    "\n",
    "- `(sqrt(1 / ((x + y)**2 + 1)) + 1) * (sqrt(1 / ((x + y)**2 + 1)) - 1) / (x + 1)`\n",
    "- `cos(pi/9)*cos(2*pi/9)*cos(3*pi/9)*cos(4*pi/9)`\n",
    "- `tan(7*pi/18) + tan(5*pi/18) - sqrt(3)*tan(5*pi/18) * tan(7*pi/18)`\n",
    "-  `(x**3 + (sqrt(3) + sqrt(2))*x**2 + (2*sqrt(2)*sqrt(3) - 5)*x + sqrt(2) - sqrt(3)) / (x**3 + (sqrt(3) - sqrt(2))*x**2 - (2*sqrt(2)*sqrt(3) + 5)*x - sqrt(2) - sqrt(3))`"
   ]
  },
  {
   "cell_type": "code",
   "execution_count": 312,
   "id": "ee9230db-ebb7-457c-9fdc-56eeab384280",
   "metadata": {},
   "outputs": [
    {
     "data": {
      "text/latex": [
       "$\\displaystyle \\frac{-1 + \\frac{1}{x^{2} + 2 x y + y^{2} + 1}}{x + 1}$"
      ],
      "text/plain": [
       "(-1 + 1/(x**2 + 2*x*y + y**2 + 1))/(x + 1)"
      ]
     },
     "execution_count": 312,
     "metadata": {},
     "output_type": "execute_result"
    }
   ],
   "source": [
    "expr = (sqrt(1 / ((x + y)**2 + 1)) + 1) * (sqrt(1 / ((x + y)**2 + 1)) - 1) / (x + 1)\n",
    "simplify(expr)"
   ]
  },
  {
   "cell_type": "code",
   "execution_count": 365,
   "id": "ca2d31e0-51b7-4569-99aa-de88cfccd0b8",
   "metadata": {},
   "outputs": [
    {
     "data": {
      "text/latex": [
       "$\\displaystyle \\frac{- x^{3} - x^{2} \\left(\\sqrt{2} + \\sqrt{3}\\right) + x \\left(5 - 2 \\sqrt{6}\\right) - \\sqrt{2} + \\sqrt{3}}{- x^{3} + x^{2} \\left(- \\sqrt{3} + \\sqrt{2}\\right) + x \\left(2 \\sqrt{6} + 5\\right) + \\sqrt{2} + \\sqrt{3}}$"
      ],
      "text/plain": [
       "(-x**3 - x**2*(sqrt(2) + sqrt(3)) + x*(5 - 2*sqrt(6)) - sqrt(2) + sqrt(3))/(-x**3 + x**2*(-sqrt(3) + sqrt(2)) + x*(2*sqrt(6) + 5) + sqrt(2) + sqrt(3))"
      ]
     },
     "execution_count": 365,
     "metadata": {},
     "output_type": "execute_result"
    }
   ],
   "source": [
    "expr = (x**3 + (sqrt(3) + sqrt(2))*x**2 + (2*sqrt(2)*sqrt(3) - 5)*x + sqrt(2) - sqrt(3)) / (x**3 + (sqrt(3) - sqrt(2))*x**2 - (2*sqrt(2)*sqrt(3) + 5)*x - sqrt(2) - sqrt(3))\n",
    "simplify(expr)"
   ]
  },
  {
   "cell_type": "code",
   "execution_count": 395,
   "id": "a804389e-d723-4587-973e-ba24b74b844d",
   "metadata": {},
   "outputs": [
    {
     "data": {
      "text/latex": [
       "$\\displaystyle - \\sqrt{3} \\tan{\\left(\\frac{5 \\pi}{18} \\right)} \\tan{\\left(\\frac{7 \\pi}{18} \\right)} + \\tan{\\left(\\frac{5 \\pi}{18} \\right)} + \\tan{\\left(\\frac{7 \\pi}{18} \\right)}$"
      ],
      "text/plain": [
       "-sqrt(3)*tan(5*pi/18)*tan(7*pi/18) + tan(5*pi/18) + tan(7*pi/18)"
      ]
     },
     "execution_count": 395,
     "metadata": {},
     "output_type": "execute_result"
    }
   ],
   "source": [
    "simplify(tan(7*pi/18) + tan(5*pi/18) - sqrt(3)*tan(5*pi/18) * tan(7*pi/18))"
   ]
  }
 ],
 "metadata": {
  "kernelspec": {
   "display_name": "Python 3 (ipykernel)",
   "language": "python",
   "name": "python3"
  },
  "language_info": {
   "codemirror_mode": {
    "name": "ipython",
    "version": 3
   },
   "file_extension": ".py",
   "mimetype": "text/x-python",
   "name": "python",
   "nbconvert_exporter": "python",
   "pygments_lexer": "ipython3",
   "version": "3.11.2"
  }
 },
 "nbformat": 4,
 "nbformat_minor": 5
}
