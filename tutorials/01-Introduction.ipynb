{
 "cells": [
  {
   "cell_type": "markdown",
   "id": "2a0b1db3-c176-461d-ac22-69c0c2d76ca6",
   "metadata": {
    "slideshow": {
     "slide_type": ""
    },
    "tags": []
   },
   "source": [
    "# Introduction"
   ]
  },
  {
   "cell_type": "markdown",
   "id": "68a1de1d-a4fb-4620-9cdc-aa453ac77853",
   "metadata": {
    "editable": true,
    "slideshow": {
     "slide_type": ""
    },
    "tags": []
   },
   "source": [
    "## Check your installation"
   ]
  },
  {
   "cell_type": "markdown",
   "id": "6f3fa6eb-2a83-4018-a56d-2f907602dbf7",
   "metadata": {
    "editable": true,
    "slideshow": {
     "slide_type": ""
    },
    "tags": []
   },
   "source": [
    "Before we begin the tutorial, please check your version of Python and SymPy installation.\n",
    "\n",
    "Although most of the scripts used in the tutorial may work with other versions of Python and SymPy,\n",
    "if you have different Python and SymPy versions installed, \n",
    "you may encounter some issues or confusion.\n",
    "So it's best to get things checked first before beginning."
   ]
  },
  {
   "cell_type": "markdown",
   "id": "2c7c629a-72fd-4b32-a4c3-f341ae0dcf19",
   "metadata": {
    "editable": true,
    "slideshow": {
     "slide_type": ""
    },
    "tags": []
   },
   "source": [
    "### Check your Python version is `3.11`"
   ]
  },
  {
   "cell_type": "code",
   "execution_count": 84,
   "id": "2bdd8d42-0e10-4dc6-b072-eda5f5f4eb13",
   "metadata": {
    "editable": true,
    "slideshow": {
     "slide_type": ""
    },
    "tags": []
   },
   "outputs": [
    {
     "data": {
      "text/plain": [
       "'3.11.2 (main, Mar 21 2023, 16:28:24) [GCC 11.3.0]'"
      ]
     },
     "execution_count": 84,
     "metadata": {},
     "output_type": "execute_result"
    }
   ],
   "source": [
    "import sys\n",
    "\n",
    "sys.version"
   ]
  },
  {
   "cell_type": "markdown",
   "id": "f8d04de1-cab4-4e93-8aea-8337e25ab957",
   "metadata": {
    "editable": true,
    "slideshow": {
     "slide_type": ""
    },
    "tags": []
   },
   "source": [
    "### Check your SymPy version is `1.12`"
   ]
  },
  {
   "cell_type": "code",
   "execution_count": 2,
   "id": "af0703cd-0902-4f07-854c-d18a9f1a1f55",
   "metadata": {
    "editable": true,
    "slideshow": {
     "slide_type": ""
    },
    "tags": []
   },
   "outputs": [
    {
     "data": {
      "text/plain": [
       "'1.12'"
      ]
     },
     "execution_count": 2,
     "metadata": {},
     "output_type": "execute_result"
    }
   ],
   "source": [
    "import sympy\n",
    "\n",
    "sympy.__version__"
   ]
  },
  {
   "cell_type": "markdown",
   "id": "f53ea7c0-97df-4e9b-8922-c9241ffa51e1",
   "metadata": {
    "slideshow": {
     "slide_type": ""
    },
    "tags": []
   },
   "source": [
    "## How to import SymPy"
   ]
  },
  {
   "cell_type": "markdown",
   "id": "74baed9e-5b65-4159-b0a6-63c363e698a0",
   "metadata": {
    "editable": true,
    "slideshow": {
     "slide_type": ""
    },
    "tags": []
   },
   "source": [
    "Execute `from sympy import *` to load (almost) every math functions available in SymPy.\n",
    "\n",
    "SymPy is designed to be superset of python standard math library\n",
    "(`import math`) or many other math libraries like `numpy, scipy`.\n",
    "\n",
    "We may even have functions that are not available in other math libraries."
   ]
  },
  {
   "cell_type": "code",
   "execution_count": 2,
   "id": "b6226595-e75a-4759-a541-5b46f8f151d5",
   "metadata": {
    "editable": true,
    "slideshow": {
     "slide_type": ""
    },
    "tags": []
   },
   "outputs": [],
   "source": [
    "from sympy import *"
   ]
  },
  {
   "cell_type": "markdown",
   "id": "2b357c84-685f-4e39-8e22-92c94d7d5e65",
   "metadata": {
    "editable": true,
    "slideshow": {
     "slide_type": ""
    },
    "tags": []
   },
   "source": [
    "Let's try out the sine function from `math, numpy` and `sympy`."
   ]
  },
  {
   "cell_type": "code",
   "execution_count": 23,
   "id": "37ea3f6c-dcc3-4acc-8a55-0f5d87bd5f5a",
   "metadata": {
    "editable": true,
    "slideshow": {
     "slide_type": ""
    },
    "tags": []
   },
   "outputs": [],
   "source": [
    "import math\n",
    "import numpy"
   ]
  },
  {
   "cell_type": "code",
   "execution_count": 31,
   "id": "605102a1-8dd3-4f92-8f8c-3752acc87ab5",
   "metadata": {
    "editable": true,
    "slideshow": {
     "slide_type": ""
    },
    "tags": []
   },
   "outputs": [
    {
     "data": {
      "text/plain": [
       "0.7071067811865475"
      ]
     },
     "execution_count": 31,
     "metadata": {},
     "output_type": "execute_result"
    }
   ],
   "source": [
    "math.sin(math.pi / 4)"
   ]
  },
  {
   "cell_type": "code",
   "execution_count": 32,
   "id": "c4f2e1d7-46f0-4bf1-a5a9-eed8d3b4dd33",
   "metadata": {
    "editable": true,
    "slideshow": {
     "slide_type": ""
    },
    "tags": []
   },
   "outputs": [
    {
     "data": {
      "text/plain": [
       "0.7071067811865475"
      ]
     },
     "execution_count": 32,
     "metadata": {},
     "output_type": "execute_result"
    }
   ],
   "source": [
    "numpy.sin(numpy.pi / 4)"
   ]
  },
  {
   "cell_type": "code",
   "execution_count": 33,
   "id": "0956bd4c-cd7b-445c-b4a0-359b4a4b37eb",
   "metadata": {
    "editable": true,
    "slideshow": {
     "slide_type": ""
    },
    "tags": []
   },
   "outputs": [
    {
     "data": {
      "text/latex": [
       "$\\displaystyle \\frac{\\sqrt{2}}{2}$"
      ],
      "text/plain": [
       "sqrt(2)/2"
      ]
     },
     "execution_count": 33,
     "metadata": {},
     "output_type": "execute_result"
    }
   ],
   "source": [
    "sin(pi / 4)"
   ]
  },
  {
   "cell_type": "markdown",
   "id": "7155302c-a734-42cb-966c-af61b3f39a76",
   "metadata": {
    "editable": true,
    "slideshow": {
     "slide_type": ""
    },
    "tags": []
   },
   "source": [
    "We note that you don't always need star import (`*`), and you can disambiguate the modules by:\n",
    "\n",
    "- Prefixing the module `sympy.`\n",
    "- Selectively import `from sympy import sin`\n",
    "\n",
    "(And you shouldn't use star import in production because of ambiguity)"
   ]
  },
  {
   "cell_type": "code",
   "execution_count": 34,
   "id": "f11821f1-28b6-4215-ac28-474a71f51b12",
   "metadata": {
    "editable": true,
    "slideshow": {
     "slide_type": ""
    },
    "tags": []
   },
   "outputs": [
    {
     "data": {
      "text/latex": [
       "$\\displaystyle \\frac{\\sqrt{2}}{2}$"
      ],
      "text/plain": [
       "sqrt(2)/2"
      ]
     },
     "execution_count": 34,
     "metadata": {},
     "output_type": "execute_result"
    }
   ],
   "source": [
    "sympy.sin(sympy.pi / 4)"
   ]
  },
  {
   "cell_type": "code",
   "execution_count": 35,
   "id": "9bac398d-d5d5-46c7-a07d-57d5c7d411da",
   "metadata": {
    "editable": true,
    "slideshow": {
     "slide_type": ""
    },
    "tags": []
   },
   "outputs": [
    {
     "data": {
      "text/latex": [
       "$\\displaystyle \\frac{\\sqrt{2}}{2}$"
      ],
      "text/plain": [
       "sqrt(2)/2"
      ]
     },
     "execution_count": 35,
     "metadata": {},
     "output_type": "execute_result"
    }
   ],
   "source": [
    "from sympy import pi, sin\n",
    "\n",
    "sin(pi / 4)"
   ]
  },
  {
   "cell_type": "markdown",
   "id": "f51691fc-b15b-49c3-aa9b-2221f95417f1",
   "metadata": {
    "editable": true,
    "slideshow": {
     "slide_type": ""
    },
    "tags": []
   },
   "source": [
    "## Troubleshooting"
   ]
  },
  {
   "cell_type": "markdown",
   "id": "08a5ec14-9106-49cd-b7b4-37f102550092",
   "metadata": {
    "editable": true,
    "slideshow": {
     "slide_type": ""
    },
    "tags": []
   },
   "source": [
    "### You have overwritten sympy functions"
   ]
  },
  {
   "cell_type": "markdown",
   "id": "d91d553f-fa43-46e2-a773-8c67ab9e589f",
   "metadata": {
    "editable": true,
    "slideshow": {
     "slide_type": ""
    },
    "tags": []
   },
   "source": [
    "If you accidently define up sympy builtin constants, functions to something else, you can get different result."
   ]
  },
  {
   "cell_type": "markdown",
   "id": "bf367b90-0cf6-42d7-95fa-e4035e207941",
   "metadata": {
    "slideshow": {
     "slide_type": ""
    },
    "tags": []
   },
   "source": [
    "For example, if you accidentally set `pi` as variable:"
   ]
  },
  {
   "cell_type": "code",
   "execution_count": 48,
   "id": "4efbe596-0e4f-4f2b-a701-8c99d4ef3f49",
   "metadata": {
    "editable": true,
    "slideshow": {
     "slide_type": ""
    },
    "tags": []
   },
   "outputs": [
    {
     "data": {
      "text/latex": [
       "$\\displaystyle 0.247403959254523$"
      ],
      "text/plain": [
       "0.247403959254523"
      ]
     },
     "execution_count": 48,
     "metadata": {},
     "output_type": "execute_result"
    }
   ],
   "source": [
    "pi = 1\n",
    "sin(pi / 4)"
   ]
  },
  {
   "cell_type": "markdown",
   "id": "bf75c10d-547e-47d0-971a-f9337b2ed4d6",
   "metadata": {
    "slideshow": {
     "slide_type": ""
    },
    "tags": []
   },
   "source": [
    "Or if you import `pi` from other library"
   ]
  },
  {
   "cell_type": "code",
   "execution_count": 49,
   "id": "321a076d-0596-4c2e-95fa-5ca46ff23e61",
   "metadata": {
    "editable": true,
    "slideshow": {
     "slide_type": ""
    },
    "tags": []
   },
   "outputs": [
    {
     "data": {
      "text/latex": [
       "$\\displaystyle 0.707106781186547$"
      ],
      "text/plain": [
       "0.707106781186547"
      ]
     },
     "execution_count": 49,
     "metadata": {},
     "output_type": "execute_result"
    }
   ],
   "source": [
    "from math import pi\n",
    "\n",
    "sin(pi / 4)"
   ]
  },
  {
   "cell_type": "markdown",
   "id": "6c8629ca-12fe-44f2-99d6-b6d76db89ead",
   "metadata": {
    "slideshow": {
     "slide_type": ""
    },
    "tags": []
   },
   "source": [
    "The best practice is try to prefix your cell with `from sympy import *` every time before doing your exercise."
   ]
  },
  {
   "cell_type": "code",
   "execution_count": 3,
   "id": "1db61239-54eb-4025-8c4b-96b4fec432dc",
   "metadata": {
    "editable": true,
    "slideshow": {
     "slide_type": ""
    },
    "tags": []
   },
   "outputs": [
    {
     "data": {
      "text/latex": [
       "$\\displaystyle \\frac{\\sqrt{2}}{2}$"
      ],
      "text/plain": [
       "sqrt(2)/2"
      ]
     },
     "execution_count": 3,
     "metadata": {},
     "output_type": "execute_result"
    }
   ],
   "source": [
    "from sympy import *\n",
    "\n",
    "sin(pi / 4)"
   ]
  },
  {
   "cell_type": "markdown",
   "id": "eacab41a-a605-4945-9454-8815cce422d7",
   "metadata": {
    "slideshow": {
     "slide_type": ""
    },
    "tags": []
   },
   "source": [
    "### My notebook stops responding"
   ]
  },
  {
   "cell_type": "markdown",
   "id": "98b988d8-0587-4dab-b86d-002befd7e91d",
   "metadata": {
    "slideshow": {
     "slide_type": ""
    },
    "tags": []
   },
   "source": [
    "If your notebook doesn't terminate the computation, try:\n",
    "\n",
    "    Kernel -> Interrupt Kernel"
   ]
  },
  {
   "cell_type": "markdown",
   "id": "48f92b4e-5e41-4b35-b7fc-5091e4d0fd2a",
   "metadata": {
    "editable": true,
    "slideshow": {
     "slide_type": ""
    },
    "tags": []
   },
   "source": [
    "And for the cases where you are stuck, try:\n",
    "\n",
    "    Kernel -> Restart Kernel and Clear Outputs of All Cells"
   ]
  },
  {
   "cell_type": "markdown",
   "id": "e5a6c4a0-2d22-46f9-af55-c132a057f882",
   "metadata": {
    "editable": true,
    "slideshow": {
     "slide_type": ""
    },
    "tags": []
   },
   "source": [
    "## Getting help for SymPy"
   ]
  },
  {
   "cell_type": "markdown",
   "id": "c1c9c836-f5d7-46ea-97a9-be14c1640900",
   "metadata": {
    "editable": true,
    "slideshow": {
     "slide_type": ""
    },
    "tags": []
   },
   "source": [
    "The functions `dir, help` is helpful for investigating through sympy modules, functions."
   ]
  },
  {
   "cell_type": "markdown",
   "id": "39a523f0-e504-488c-9ae9-74dc6f56d202",
   "metadata": {
    "editable": true,
    "slideshow": {
     "slide_type": ""
    },
    "tags": []
   },
   "source": [
    "### Try `dir`"
   ]
  },
  {
   "cell_type": "code",
   "execution_count": null,
   "id": "07dd13cc-dad5-4a3a-b0dd-1fbfedbde0d2",
   "metadata": {
    "editable": true,
    "slideshow": {
     "slide_type": ""
    },
    "tags": []
   },
   "outputs": [],
   "source": [
    "dir(sympy)"
   ]
  },
  {
   "cell_type": "markdown",
   "id": "0b47b39d-b8df-4248-9ce7-935a81ccc668",
   "metadata": {
    "editable": true,
    "slideshow": {
     "slide_type": ""
    },
    "tags": []
   },
   "source": [
    "### Try `help`"
   ]
  },
  {
   "cell_type": "code",
   "execution_count": null,
   "id": "94f7d16d-8cfd-440d-99f3-d82bf8be9ac9",
   "metadata": {
    "editable": true,
    "slideshow": {
     "slide_type": ""
    },
    "tags": []
   },
   "outputs": [],
   "source": [
    "help(sin)"
   ]
  },
  {
   "cell_type": "code",
   "execution_count": null,
   "id": "b5723241-fe0f-4d89-b45b-c0a5f29f575e",
   "metadata": {
    "editable": true,
    "slideshow": {
     "slide_type": ""
    },
    "tags": []
   },
   "outputs": [],
   "source": [
    "sin?"
   ]
  },
  {
   "cell_type": "markdown",
   "id": "25a573ae-00bf-4c51-85ba-adbe4f083651",
   "metadata": {
    "editable": true,
    "slideshow": {
     "slide_type": ""
    },
    "tags": []
   },
   "source": [
    "### Browse SymPy documentation"
   ]
  },
  {
   "cell_type": "markdown",
   "id": "bb9af4d9-2243-4707-9b37-bc5b0eacf293",
   "metadata": {
    "editable": true,
    "slideshow": {
     "slide_type": ""
    },
    "tags": []
   },
   "source": [
    "You may also read the SymPy documentation\n",
    "\n",
    "https://docs.sympy.org/latest/index.html\n",
    "\n",
    "for more formatted help."
   ]
  },
  {
   "cell_type": "markdown",
   "id": "70dae286-468d-4f6b-a929-cdd957b563ea",
   "metadata": {
    "editable": true,
    "slideshow": {
     "slide_type": ""
    },
    "tags": []
   },
   "source": [
    "# Symbolic Computation"
   ]
  },
  {
   "cell_type": "markdown",
   "id": "e31ae6c2-c08f-4cd9-95dc-6cbc0b060e18",
   "metadata": {
    "editable": true,
    "slideshow": {
     "slide_type": ""
    },
    "tags": []
   },
   "source": [
    "## Integers"
   ]
  },
  {
   "cell_type": "markdown",
   "id": "c7279349-50e6-4747-93b0-1fb5c6764de7",
   "metadata": {
    "editable": true,
    "slideshow": {
     "slide_type": ""
    },
    "tags": []
   },
   "source": [
    "In Python and SymPy, integers are really $\\mathbb{Z}$ and doesn't have problem with overflows, \n",
    "\n",
    "which makes it easy to work with very large numbers, especially powers and factorials."
   ]
  },
  {
   "cell_type": "markdown",
   "id": "9e1a5db4-914c-4e13-9993-7218f6da3b0f",
   "metadata": {
    "editable": true,
    "slideshow": {
     "slide_type": ""
    },
    "tags": []
   },
   "source": [
    "### Creating Integers"
   ]
  },
  {
   "cell_type": "markdown",
   "id": "4be225fc-3caa-482e-a9f6-ac9cab144be6",
   "metadata": {
    "editable": true,
    "slideshow": {
     "slide_type": ""
    },
    "tags": []
   },
   "source": [
    "You can create SymPy integer by passing python `int` to `Integer` constructor."
   ]
  },
  {
   "cell_type": "code",
   "execution_count": 58,
   "id": "8fc620c1-954a-4a11-853e-89be4fe7a28a",
   "metadata": {
    "editable": true,
    "slideshow": {
     "slide_type": ""
    },
    "tags": []
   },
   "outputs": [
    {
     "data": {
      "text/latex": [
       "$\\displaystyle 12345$"
      ],
      "text/plain": [
       "12345"
      ]
     },
     "execution_count": 58,
     "metadata": {},
     "output_type": "execute_result"
    }
   ],
   "source": [
    "Integer(12345)"
   ]
  },
  {
   "cell_type": "markdown",
   "id": "e3a612d3-b27f-4940-926a-97e6abc89996",
   "metadata": {
    "editable": true,
    "slideshow": {
     "slide_type": ""
    },
    "tags": []
   },
   "source": [
    "### Integer Arithmetic"
   ]
  },
  {
   "cell_type": "markdown",
   "id": "626c8849-9f01-4095-ac0f-dc898a8e348e",
   "metadata": {
    "editable": true,
    "slideshow": {
     "slide_type": ""
    },
    "tags": []
   },
   "source": [
    "You can add, subtract, multiply, power, divide like other integer numbers."
   ]
  },
  {
   "cell_type": "code",
   "execution_count": 63,
   "id": "5b00f2e9-27c7-4274-92e1-abfdfa95ba1e",
   "metadata": {
    "editable": true,
    "slideshow": {
     "slide_type": ""
    },
    "tags": []
   },
   "outputs": [
    {
     "data": {
      "text/latex": [
       "$\\displaystyle 46$"
      ],
      "text/plain": [
       "46"
      ]
     },
     "execution_count": 63,
     "metadata": {},
     "output_type": "execute_result"
    }
   ],
   "source": [
    "Integer(12) + Integer(34)"
   ]
  },
  {
   "cell_type": "code",
   "execution_count": 60,
   "id": "dd91f818-2f68-44b7-a3eb-8219d196d827",
   "metadata": {
    "editable": true,
    "slideshow": {
     "slide_type": ""
    },
    "tags": []
   },
   "outputs": [
    {
     "data": {
      "text/latex": [
       "$\\displaystyle 1267650600228229401496703205376$"
      ],
      "text/plain": [
       "1267650600228229401496703205376"
      ]
     },
     "execution_count": 60,
     "metadata": {},
     "output_type": "execute_result"
    }
   ],
   "source": [
    "Integer(2) ** 100"
   ]
  },
  {
   "cell_type": "markdown",
   "id": "075eaa24-1541-40d2-bb5b-89af2962a3c8",
   "metadata": {
    "editable": true,
    "slideshow": {
     "slide_type": ""
    },
    "tags": []
   },
   "source": [
    "However, you may notice that they are displayed in $\\LaTeX$ and have custom types than python builtin integers.\n",
    "\n",
    "For example, SymPy integers have more richer mathematical functions like `is_prime`."
   ]
  },
  {
   "cell_type": "code",
   "execution_count": 72,
   "id": "646f4098-6ff5-46c3-ba74-7781911eed70",
   "metadata": {
    "editable": true,
    "slideshow": {
     "slide_type": ""
    },
    "tags": []
   },
   "outputs": [
    {
     "data": {
      "text/plain": [
       "True"
      ]
     },
     "execution_count": 72,
     "metadata": {},
     "output_type": "execute_result"
    }
   ],
   "source": [
    "Integer(7).is_prime"
   ]
  },
  {
   "cell_type": "markdown",
   "id": "87d87974-21e2-43a7-93fc-37ba10ce991d",
   "metadata": {
    "editable": true,
    "slideshow": {
     "slide_type": ""
    },
    "tags": []
   },
   "source": [
    "### Exact Division"
   ]
  },
  {
   "cell_type": "markdown",
   "id": "9d848fa0-bf38-4e86-b811-210ebcb34d97",
   "metadata": {
    "editable": true,
    "slideshow": {
     "slide_type": ""
    },
    "tags": []
   },
   "source": [
    "You may also notice that the division of integers are exact.\n",
    "\n",
    "The division of integers are more mathematical ($\\mathbb{Q}$) than floats."
   ]
  },
  {
   "cell_type": "code",
   "execution_count": 65,
   "id": "f58fbf99-f9c1-462e-a5cd-aec2dd67ca31",
   "metadata": {
    "editable": true,
    "slideshow": {
     "slide_type": ""
    },
    "tags": []
   },
   "outputs": [
    {
     "data": {
      "text/latex": [
       "$\\displaystyle 3$"
      ],
      "text/plain": [
       "3"
      ]
     },
     "execution_count": 65,
     "metadata": {},
     "output_type": "execute_result"
    }
   ],
   "source": [
    "Integer(6) / Integer(2)"
   ]
  },
  {
   "cell_type": "code",
   "execution_count": 64,
   "id": "be832550-49d8-4538-9023-0fc58ade94f1",
   "metadata": {
    "editable": true,
    "slideshow": {
     "slide_type": ""
    },
    "tags": []
   },
   "outputs": [
    {
     "data": {
      "text/latex": [
       "$\\displaystyle \\frac{2}{3}$"
      ],
      "text/plain": [
       "2/3"
      ]
     },
     "execution_count": 64,
     "metadata": {},
     "output_type": "execute_result"
    }
   ],
   "source": [
    "Integer(2) / Integer(3)"
   ]
  },
  {
   "cell_type": "code",
   "execution_count": 66,
   "id": "b3920701-57f3-44a4-9d04-93e36dcb7f22",
   "metadata": {
    "editable": true,
    "slideshow": {
     "slide_type": ""
    },
    "tags": []
   },
   "outputs": [
    {
     "data": {
      "text/plain": [
       "3.0"
      ]
     },
     "execution_count": 66,
     "metadata": {},
     "output_type": "execute_result"
    }
   ],
   "source": [
    "6 / 2"
   ]
  },
  {
   "cell_type": "code",
   "execution_count": 67,
   "id": "b69eb094-dc17-43d1-ba6b-95fb2843b61d",
   "metadata": {
    "editable": true,
    "slideshow": {
     "slide_type": ""
    },
    "tags": []
   },
   "outputs": [
    {
     "data": {
      "text/plain": [
       "0.6666666666666666"
      ]
     },
     "execution_count": 67,
     "metadata": {},
     "output_type": "execute_result"
    }
   ],
   "source": [
    "2 / 3"
   ]
  },
  {
   "cell_type": "markdown",
   "id": "aff42407-b69c-4f05-bd74-f0d37a12edee",
   "metadata": {
    "editable": true,
    "slideshow": {
     "slide_type": ""
    },
    "tags": []
   },
   "source": [
    "### Number Theory"
   ]
  },
  {
   "cell_type": "markdown",
   "id": "75c0bd72-0d1f-49ad-aaef-9d33bdc8e69c",
   "metadata": {
    "editable": true,
    "slideshow": {
     "slide_type": ""
    },
    "tags": []
   },
   "source": [
    "SymPy also has very rich number theory which can compute \n",
    "\n",
    "- Fibonacci number\n",
    "- Factorials\n",
    "- GCD\n",
    "- Prime factorization\n",
    "- ...\n",
    "\n",
    "which works with very large numbers"
   ]
  },
  {
   "cell_type": "markdown",
   "id": "305e0477-1492-4d1b-9f79-d57881341c3e",
   "metadata": {
    "editable": true,
    "raw_mimetype": "",
    "slideshow": {
     "slide_type": ""
    },
    "tags": []
   },
   "source": [
    "#### Fibonacci Numbers"
   ]
  },
  {
   "cell_type": "code",
   "execution_count": 61,
   "id": "b0087f4e-a21c-4c22-b768-7b84120cd801",
   "metadata": {
    "editable": true,
    "slideshow": {
     "slide_type": ""
    },
    "tags": []
   },
   "outputs": [
    {
     "data": {
      "text/latex": [
       "$\\displaystyle 573147844013817084101$"
      ],
      "text/plain": [
       "573147844013817084101"
      ]
     },
     "execution_count": 61,
     "metadata": {},
     "output_type": "execute_result"
    }
   ],
   "source": [
    "fibonacci(101)"
   ]
  },
  {
   "cell_type": "code",
   "execution_count": 62,
   "id": "526cf0bd-a355-459f-9eb4-a7a920a79c81",
   "metadata": {
    "editable": true,
    "slideshow": {
     "slide_type": ""
    },
    "tags": []
   },
   "outputs": [
    {
     "data": {
      "text/latex": [
       "$\\displaystyle 70330367711422815821835254877183549770181269836358732742604905087154537118196933579742249494562611733487750449241765991088186363265450223647106012053374121273867339111198139373125598767690091902245245323403501$"
      ],
      "text/plain": [
       "70330367711422815821835254877183549770181269836358732742604905087154537118196933579742249494562611733487750449241765991088186363265450223647106012053374121273867339111198139373125598767690091902245245323403501"
      ]
     },
     "execution_count": 62,
     "metadata": {},
     "output_type": "execute_result"
    }
   ],
   "source": [
    "fibonacci(1001)"
   ]
  },
  {
   "cell_type": "markdown",
   "id": "7ab4f831-7bed-42f4-9ba9-ac4b2689405d",
   "metadata": {
    "editable": true,
    "slideshow": {
     "slide_type": ""
    },
    "tags": []
   },
   "source": [
    "#### Prime Factorization"
   ]
  },
  {
   "cell_type": "code",
   "execution_count": null,
   "id": "97ec23e0-7437-4235-98fb-c4e374266a97",
   "metadata": {
    "editable": true,
    "slideshow": {
     "slide_type": ""
    },
    "tags": []
   },
   "outputs": [],
   "source": [
    "factorint(1234567890123456789)"
   ]
  },
  {
   "cell_type": "markdown",
   "id": "2f5eba02-2271-4f5d-8a52-a367b19b28a9",
   "metadata": {},
   "source": [
    "### Exercises"
   ]
  },
  {
   "cell_type": "markdown",
   "id": "a8cd1142-b269-491d-be89-ed4350f463d1",
   "metadata": {},
   "source": [
    "- Create SymPy integers `123`, `-100`\n",
    "- Compute the prime factorization of `24`"
   ]
  },
  {
   "cell_type": "code",
   "execution_count": null,
   "id": "15e0608a-21c4-4efa-8792-d3b73e7b2523",
   "metadata": {},
   "outputs": [],
   "source": []
  },
  {
   "cell_type": "markdown",
   "id": "16111013-fb7f-476e-9cf4-967667627e01",
   "metadata": {
    "editable": false,
    "slideshow": {
     "slide_type": ""
    },
    "tags": []
   },
   "source": [
    "## Rational Numbers"
   ]
  },
  {
   "cell_type": "markdown",
   "id": "40bbdd9b-3cbb-43a6-9a59-b1cf43cf9a43",
   "metadata": {},
   "source": [
    "### Why do we need rational numbers?"
   ]
  },
  {
   "cell_type": "markdown",
   "id": "fa4708dc-27c9-4b20-841c-ba18d0c3a323",
   "metadata": {
    "editable": true,
    "slideshow": {
     "slide_type": ""
    },
    "tags": []
   },
   "source": [
    "Why does `0.1 + 0.2` does not equal `0.3` in Python?"
   ]
  },
  {
   "cell_type": "code",
   "execution_count": 42,
   "id": "2bbcc875-c488-4b59-9e36-a0dbea9d0428",
   "metadata": {
    "editable": false,
    "slideshow": {
     "slide_type": ""
    },
    "tags": []
   },
   "outputs": [
    {
     "data": {
      "text/plain": [
       "False"
      ]
     },
     "execution_count": 42,
     "metadata": {},
     "output_type": "execute_result"
    }
   ],
   "source": [
    "0.1 + 0.2 == 0.3"
   ]
  },
  {
   "cell_type": "markdown",
   "id": "82552901-7f3d-4895-b5de-283b2a12fff4",
   "metadata": {
    "editable": true,
    "slideshow": {
     "slide_type": ""
    },
    "tags": []
   },
   "source": [
    "This is because the numbers are not exactly represented as `0.1, 0.2, 0.3` in computer \n",
    "and tiny error term appears in subtraction."
   ]
  },
  {
   "cell_type": "code",
   "execution_count": 41,
   "id": "b4a4fda1-8f8f-44a7-97ee-d961abed986c",
   "metadata": {
    "editable": false,
    "slideshow": {
     "slide_type": ""
    },
    "tags": []
   },
   "outputs": [
    {
     "data": {
      "text/plain": [
       "5.551115123125783e-17"
      ]
     },
     "execution_count": 41,
     "metadata": {},
     "output_type": "execute_result"
    }
   ],
   "source": [
    "0.1 + 0.2 - 0.3"
   ]
  },
  {
   "cell_type": "markdown",
   "id": "eeee3336-eac1-4f46-a1e1-840bd77dcc1b",
   "metadata": {
    "editable": true,
    "slideshow": {
     "slide_type": ""
    },
    "tags": []
   },
   "source": [
    "In SymPy, we use the rational numbers because we need mathematically correct objects to reason with fractional quantities and decimals.\n",
    "\n",
    "If you do want to use floats, and you are only doing pure numeric work, you may better use a purely numeric library like NumPy.\r\n"
   ]
  },
  {
   "cell_type": "markdown",
   "id": "cb3270ca-a334-45cb-a935-a1c7d32586f6",
   "metadata": {},
   "source": [
    "### Creating Rational Numbers"
   ]
  },
  {
   "cell_type": "markdown",
   "id": "8dc1b2b9-ede1-4e37-9334-f0f94905fc81",
   "metadata": {
    "editable": true,
    "slideshow": {
     "slide_type": ""
    },
    "tags": []
   },
   "source": [
    "In SymPy, you can create rational number by using `Rational` constructor"
   ]
  },
  {
   "cell_type": "code",
   "execution_count": 87,
   "id": "29fba910-e831-4368-a4a2-e7489cfca0bb",
   "metadata": {
    "editable": true,
    "slideshow": {
     "slide_type": ""
    },
    "tags": []
   },
   "outputs": [
    {
     "data": {
      "text/latex": [
       "$\\displaystyle \\frac{1}{7}$"
      ],
      "text/plain": [
       "1/7"
      ]
     },
     "execution_count": 87,
     "metadata": {},
     "output_type": "execute_result"
    }
   ],
   "source": [
    "Rational(1, 7)"
   ]
  },
  {
   "cell_type": "markdown",
   "id": "badd65e7-cd07-4c36-b97c-9db0605c40e3",
   "metadata": {
    "editable": true,
    "slideshow": {
     "slide_type": ""
    },
    "tags": []
   },
   "source": [
    "Or by dividing two sympy `Integer`"
   ]
  },
  {
   "cell_type": "code",
   "execution_count": 86,
   "id": "ba7e02ae-b082-4a83-a4c1-c4d215480edc",
   "metadata": {
    "editable": true,
    "slideshow": {
     "slide_type": ""
    },
    "tags": []
   },
   "outputs": [
    {
     "data": {
      "text/latex": [
       "$\\displaystyle \\frac{1}{7}$"
      ],
      "text/plain": [
       "1/7"
      ]
     },
     "execution_count": 86,
     "metadata": {},
     "output_type": "execute_result"
    }
   ],
   "source": [
    "Integer(1) / Integer(7)"
   ]
  },
  {
   "cell_type": "markdown",
   "id": "d8d060c5-b02d-408a-a8f9-ff0138b88395",
   "metadata": {},
   "source": [
    "### Rational Arithmetic"
   ]
  },
  {
   "cell_type": "code",
   "execution_count": 103,
   "id": "44bd1a57-7ee5-4263-9c2f-6e886d215942",
   "metadata": {},
   "outputs": [
    {
     "data": {
      "text/latex": [
       "$\\displaystyle \\frac{3}{7}$"
      ],
      "text/plain": [
       "3/7"
      ]
     },
     "execution_count": 103,
     "metadata": {},
     "output_type": "execute_result"
    }
   ],
   "source": [
    "Rational(1, 3) + Rational(1, 11) + Rational(1, 231)"
   ]
  },
  {
   "cell_type": "markdown",
   "id": "1c8b1ea4-b7f6-4437-ad74-10b93c631967",
   "metadata": {},
   "source": [
    "### Exercises"
   ]
  },
  {
   "cell_type": "markdown",
   "id": "69d33fd9-88d7-4957-88a0-d012a356d7af",
   "metadata": {},
   "source": [
    "- Create $\\frac{1}{10}$ with dividing the SymPy integers\n",
    "- Create $\\frac{1}{10}$ with rational constructor\n",
    "- Compute $\\frac{1}{10} + \\frac{2}{10} - \\frac{3}{10}$ with rational arithmetic\n",
    "- Multiply $\\frac{1}{2}$ with $4$"
   ]
  },
  {
   "cell_type": "code",
   "execution_count": null,
   "id": "67bf1e54-b64d-4a82-b258-00aa5081b856",
   "metadata": {},
   "outputs": [],
   "source": []
  },
  {
   "cell_type": "markdown",
   "id": "09d6c321-2a0b-4051-a27e-df2259820660",
   "metadata": {},
   "source": [
    "## Arbitrary Precision Float"
   ]
  },
  {
   "cell_type": "markdown",
   "id": "671647e1-5458-407f-8d13-655ddeff5cd1",
   "metadata": {},
   "source": [
    "In Python or NumPy, floating points restricts the precision.\n",
    "\n",
    "However, in SymPy, we have our own floating point number that allows you to calculate with any precision.\n",
    "\n",
    "In SymPy, floating points can be created by `Float(n, prec)` where `n` is a string that represents decimal or fraction, and `prec` is the precision."
   ]
  },
  {
   "cell_type": "code",
   "execution_count": 2,
   "id": "bd2a49b7-fb04-4b00-a96e-cd1723711363",
   "metadata": {},
   "outputs": [
    {
     "data": {
      "text/latex": [
       "$\\displaystyle 0.1$"
      ],
      "text/plain": [
       "0.1000000000"
      ]
     },
     "execution_count": 2,
     "metadata": {},
     "output_type": "execute_result"
    }
   ],
   "source": [
    "from sympy import *\n",
    "\n",
    "Float('0.1', 10)"
   ]
  },
  {
   "cell_type": "markdown",
   "id": "6583d34f-7e2e-43e4-ac79-408363487d97",
   "metadata": {},
   "source": [
    "We note that the best way to create floats is to parse from strings.\n",
    "\n",
    "If you build float from python float literals, \n",
    "the precision is limited to the python's floating points (17 decimal places), \n",
    "and you may get unexpected result."
   ]
  },
  {
   "cell_type": "code",
   "execution_count": 3,
   "id": "ca8cc0ae-8834-4646-ab6a-9299ff1f9477",
   "metadata": {
    "scrolled": true
   },
   "outputs": [
    {
     "data": {
      "text/plain": [
       "False"
      ]
     },
     "execution_count": 3,
     "metadata": {},
     "output_type": "execute_result"
    }
   ],
   "source": [
    "Float(0.1, 20) == Float('0.1', 20)"
   ]
  },
  {
   "cell_type": "markdown",
   "id": "3e396a1e-634c-4628-9fbd-cdaff68015b4",
   "metadata": {},
   "source": [
    "Getting decimal representation of rational numbers in any digits"
   ]
  },
  {
   "cell_type": "code",
   "execution_count": 5,
   "id": "20ac9e71-13fc-4727-a955-10232e8125b4",
   "metadata": {},
   "outputs": [
    {
     "data": {
      "text/latex": [
       "$\\displaystyle 0.1428571429$"
      ],
      "text/plain": [
       "0.1428571429"
      ]
     },
     "execution_count": 5,
     "metadata": {},
     "output_type": "execute_result"
    }
   ],
   "source": [
    "Float('1/7', 10)"
   ]
  },
  {
   "cell_type": "code",
   "execution_count": 6,
   "id": "decfeda2-de4f-4c93-8d20-af0b86b0fc9a",
   "metadata": {},
   "outputs": [
    {
     "data": {
      "text/latex": [
       "$\\displaystyle 0.14285714285714285714$"
      ],
      "text/plain": [
       "0.14285714285714285714"
      ]
     },
     "execution_count": 6,
     "metadata": {},
     "output_type": "execute_result"
    }
   ],
   "source": [
    "Float('1/7', 20)"
   ]
  },
  {
   "cell_type": "markdown",
   "id": "d0a6a676-58e1-4fca-bccf-910114c2cc4a",
   "metadata": {},
   "source": [
    "The more advanced numeric evaluation methods will be explained in the next section."
   ]
  },
  {
   "cell_type": "markdown",
   "id": "1fca6849-415b-49d0-adab-04216fe42726",
   "metadata": {},
   "source": [
    "### Exercises"
   ]
  },
  {
   "cell_type": "markdown",
   "id": "107bacc3-2a71-4afb-91f8-170eb1a5bc2f",
   "metadata": {},
   "source": [
    "- Perform the arithmetic $0.1 + 0.2 - 0.3$ with precision 10\n",
    "- Perform the arithmetic $0.1 + 0.2 - 0.3$ with precision 20\n",
    "- Perform the arithmetic $0.1 + 0.2 - 0.3$ with precision 30"
   ]
  },
  {
   "cell_type": "code",
   "execution_count": null,
   "id": "783bd12b-d1eb-4f3e-8265-bd0fd19998b1",
   "metadata": {},
   "outputs": [],
   "source": []
  },
  {
   "cell_type": "markdown",
   "id": "9c304abb-5e7f-4610-9348-e202eca71fa8",
   "metadata": {
    "editable": true,
    "slideshow": {
     "slide_type": ""
    },
    "tags": []
   },
   "source": [
    "## Symbols"
   ]
  },
  {
   "cell_type": "markdown",
   "id": "beab8d6f-cdcb-4e04-a4ef-a8dfef1a021e",
   "metadata": {},
   "source": [
    "Symbols are mathematical variables that can be used to create mathematical formula and solve mathematical problems."
   ]
  },
  {
   "cell_type": "markdown",
   "id": "54e57b76-beeb-4054-a488-421b092f3772",
   "metadata": {},
   "source": [
    "### Creating Symbols"
   ]
  },
  {
   "cell_type": "markdown",
   "id": "93cbcbfc-65b8-4d61-97c6-c6dbb58be084",
   "metadata": {},
   "source": [
    "#### Creating a Single Symbol"
   ]
  },
  {
   "cell_type": "markdown",
   "id": "7588cfa2-e4f0-4d2d-960f-30e5c3068874",
   "metadata": {},
   "source": [
    "In order to create a symbol, use `Symbol` constructor with string."
   ]
  },
  {
   "cell_type": "code",
   "execution_count": 177,
   "id": "f7d5cd19-9385-40d8-848a-0038d44fbbb4",
   "metadata": {},
   "outputs": [],
   "source": [
    "x = Symbol('x')\n",
    "y = Symbol('y')"
   ]
  },
  {
   "cell_type": "markdown",
   "id": "9992a637-2751-480a-98d2-0ff405696869",
   "metadata": {},
   "source": [
    "#### Creating Multiple Symbols"
   ]
  },
  {
   "cell_type": "markdown",
   "id": "7c869d8f-4608-489c-9b47-1375d91f762f",
   "metadata": {},
   "source": [
    "Use `symbols` constructor with strings separated by spacing if you want to create symbols.\n",
    "\n",
    "`symbols` automatically splits the strings based on the delimitor `' '` and assigns to `Symbol`."
   ]
  },
  {
   "cell_type": "code",
   "execution_count": 176,
   "id": "c9b759ee-94c9-41e3-bf9b-bcd525901451",
   "metadata": {},
   "outputs": [],
   "source": [
    "a, b = symbols('a b')"
   ]
  },
  {
   "cell_type": "markdown",
   "id": "438a4e73-25b4-419f-ab8c-8ed49d7c3077",
   "metadata": {},
   "source": [
    "#### Creating Greek Symbol"
   ]
  },
  {
   "cell_type": "markdown",
   "id": "98d24724-4fa9-4e60-bf67-b38ca4c5d76d",
   "metadata": {},
   "source": [
    "If you want to create symbols with greek letter,\n",
    "you should type in the name of the greek alphabets into `Symbol` constructor.\n",
    "\n",
    "The examples are `alpha`, `beta`, ... and `Alpha`, ... for capital greek letters."
   ]
  },
  {
   "cell_type": "code",
   "execution_count": 191,
   "id": "e1403803-1144-4910-ae7b-354b4fff4be4",
   "metadata": {},
   "outputs": [
    {
     "data": {
      "text/latex": [
       "$\\displaystyle \\lambda$"
      ],
      "text/plain": [
       "lambda"
      ]
     },
     "execution_count": 191,
     "metadata": {},
     "output_type": "execute_result"
    }
   ],
   "source": [
    "Symbol('lambda')"
   ]
  },
  {
   "cell_type": "markdown",
   "id": "229b8f08-539a-4581-acbe-d87e664f9bab",
   "metadata": {},
   "source": [
    "#### Creating Subscripted Symbol"
   ]
  },
  {
   "cell_type": "markdown",
   "id": "2b01ce05-26d2-4188-bf11-ecabf88c5a30",
   "metadata": {},
   "source": [
    "If you have many symbols, it is useful to create symbols with subscripts."
   ]
  },
  {
   "cell_type": "code",
   "execution_count": 188,
   "id": "ae491e18-16a5-48fb-b551-715a64292153",
   "metadata": {},
   "outputs": [
    {
     "data": {
      "text/latex": [
       "$\\displaystyle x_{1}$"
      ],
      "text/plain": [
       "x_1"
      ]
     },
     "execution_count": 188,
     "metadata": {},
     "output_type": "execute_result"
    }
   ],
   "source": [
    "Symbol('x_1')"
   ]
  },
  {
   "cell_type": "code",
   "execution_count": 199,
   "id": "4b63b9d4-5420-49fc-a41f-a47345b7fb0b",
   "metadata": {},
   "outputs": [
    {
     "data": {
      "text/latex": [
       "$\\displaystyle \\gamma_{123}$"
      ],
      "text/plain": [
       "gamma_123"
      ]
     },
     "execution_count": 199,
     "metadata": {},
     "output_type": "execute_result"
    }
   ],
   "source": [
    "Symbol('gamma_123')"
   ]
  },
  {
   "cell_type": "markdown",
   "id": "b8eb6d3d-398a-4882-b8a1-b7bcdd50f67e",
   "metadata": {},
   "source": [
    "#### Exercises"
   ]
  },
  {
   "cell_type": "markdown",
   "id": "86748596-db81-43d6-b5ef-99256b3d098e",
   "metadata": {},
   "source": [
    "- Create 5 symbols $a_0, a_1, a_2, a_3, a_4$ and assign it to a variable `a` such that `a[0], a[1], a[2], a[3], a[4]` gives the indexed symbols respectively\n",
    "- Create 3 symbols $x, \\beta_2, Z_{123}$ and assign each symbols to variables `x, beta_2, Z_123` respectively"
   ]
  },
  {
   "cell_type": "code",
   "execution_count": null,
   "id": "dc40a9cb-8948-4356-a349-e4212d3f8b59",
   "metadata": {},
   "outputs": [],
   "source": []
  },
  {
   "cell_type": "markdown",
   "id": "9f447526-7912-4950-82ee-191b126b5cee",
   "metadata": {},
   "source": [
    "### Creating Mathematical Formula"
   ]
  },
  {
   "cell_type": "markdown",
   "id": "07d0b96c-0ffa-4c4b-89b4-368bd148e133",
   "metadata": {},
   "source": [
    "The grammar for building mathematical expression is:\n",
    "\n",
    "- `Symbol, Integer, Rational` is `Expr`\n",
    "- `Expr + Expr` is `Expr`\n",
    "- `Expr - Expr` is `Expr`\n",
    "- `Expr * Expr` is `Expr`\n",
    "- `Expr - Expr` is `Expr`\n",
    "- `Expr ** Expr` is `Expr`\n",
    "- `sin(Expr)` is `Expr`\n",
    "- `sqrt(Expr)` is `Expr`\n",
    "- ... many SymPy functions gives `Expr`\n",
    "\n",
    "We also note that python `int` will be converted to `Integer` in every places where SymPy recognizes\n",
    "(which is done by `sympify` to be explained)\n",
    "\n",
    "Which allows you to construct formula with less boilerplate."
   ]
  },
  {
   "cell_type": "markdown",
   "id": "02824621-4e94-49dc-909a-5536d21be1fd",
   "metadata": {},
   "source": [
    "#### Polynomial"
   ]
  },
  {
   "cell_type": "code",
   "execution_count": 28,
   "id": "6a0565af-abca-4966-820a-c43307637a81",
   "metadata": {},
   "outputs": [
    {
     "data": {
      "text/latex": [
       "$\\displaystyle x^{2} + 2 x + 3$"
      ],
      "text/plain": [
       "x**2 + 2*x + 3"
      ]
     },
     "execution_count": 28,
     "metadata": {},
     "output_type": "execute_result"
    }
   ],
   "source": [
    "x = Symbol('x')\n",
    "\n",
    "x**2 + 2*x + 3"
   ]
  },
  {
   "cell_type": "markdown",
   "id": "4fc564ac-a145-451d-882b-0f2141a6c7e8",
   "metadata": {},
   "source": [
    "#### Area of Triangle"
   ]
  },
  {
   "cell_type": "code",
   "execution_count": 31,
   "id": "4c839f93-49a3-4fd2-b35c-00d674b67aa1",
   "metadata": {},
   "outputs": [
    {
     "data": {
      "text/latex": [
       "$\\displaystyle \\frac{h w}{2}$"
      ],
      "text/plain": [
       "h*w/2"
      ]
     },
     "execution_count": 31,
     "metadata": {},
     "output_type": "execute_result"
    }
   ],
   "source": [
    "w = Symbol('w')\n",
    "h = Symbol('h')\n",
    "\n",
    "Rational(1, 2) * w * h"
   ]
  },
  {
   "cell_type": "code",
   "execution_count": 32,
   "id": "0c26c70d-a9d9-46ec-a0b3-3ac21e5e7c04",
   "metadata": {},
   "outputs": [
    {
     "data": {
      "text/latex": [
       "$\\displaystyle \\frac{h w}{2}$"
      ],
      "text/plain": [
       "h*w/2"
      ]
     },
     "execution_count": 32,
     "metadata": {},
     "output_type": "execute_result"
    }
   ],
   "source": [
    "w * h / 2"
   ]
  },
  {
   "cell_type": "markdown",
   "id": "469d1def-d154-4af2-ab5a-7ed96a763e01",
   "metadata": {},
   "source": [
    "#### Quadratic Formula"
   ]
  },
  {
   "cell_type": "code",
   "execution_count": 242,
   "id": "3428d1ff-7297-4849-9b66-2d1319eb349a",
   "metadata": {},
   "outputs": [
    {
     "data": {
      "text/latex": [
       "$\\displaystyle - \\frac{b}{2} + \\frac{\\sqrt{- 4 a c + b^{2}}}{2}$"
      ],
      "text/plain": [
       "-b/2 + sqrt(-4*a*c + b**2)/2"
      ]
     },
     "execution_count": 242,
     "metadata": {},
     "output_type": "execute_result"
    }
   ],
   "source": [
    "a, b, c = symbols('a b c')\n",
    "\n",
    "(-b + sqrt(b**2 - 4*a*c)) / 2"
   ]
  },
  {
   "cell_type": "code",
   "execution_count": 243,
   "id": "e073857a-b22f-4bd6-b10f-154b13403c1d",
   "metadata": {},
   "outputs": [
    {
     "data": {
      "text/latex": [
       "$\\displaystyle - \\frac{b}{2} - \\frac{\\sqrt{- 4 a c + b^{2}}}{2}$"
      ],
      "text/plain": [
       "-b/2 - sqrt(-4*a*c + b**2)/2"
      ]
     },
     "execution_count": 243,
     "metadata": {},
     "output_type": "execute_result"
    }
   ],
   "source": [
    "(-b - sqrt(b**2 - 4*a*c)) / 2"
   ]
  },
  {
   "cell_type": "markdown",
   "id": "d1903686-3352-4bea-9eda-b7aac12eaa3e",
   "metadata": {},
   "source": [
    "#### Exercises"
   ]
  },
  {
   "cell_type": "markdown",
   "id": "ddc67381-378e-4859-ae58-85dfa948860d",
   "metadata": {},
   "source": [
    "- Construct the formula $x^{\\frac{1}{4}} + x^{\\frac{1}{3}} + x^{\\frac{1}{2}}$\n",
    "- Construct the formula $x + \\frac{1}{3}$\n",
    "\n",
    "It is important that you are building formulas with exact numbers (than floats)\n",
    "and if you see some floating point like `0.33333` you are likely doing it wrong.\n",
    "\n",
    "It is also important to get used to the operator precedence of sympify\n",
    "to get used to the grammar of how to construct the expressions \n",
    "\n",
    "So if you encounter any issues, \n",
    "try constructing every integers, rational numbers with explicit `Integer, Rational` constructors, \n",
    "and try to drop explicit `Integer, Rational` constructors as much as possible.\n",
    "\n",
    "Try to check the documentation for help\n",
    "\n",
    "https://docs.sympy.org/latest/explanation/gotchas.html#symbolic-expressions"
   ]
  },
  {
   "cell_type": "code",
   "execution_count": null,
   "id": "02d9b0cb-ecb7-4637-850f-dcfea862a695",
   "metadata": {},
   "outputs": [],
   "source": []
  },
  {
   "cell_type": "markdown",
   "id": "80150b40-98f6-497a-88f0-8e463eceea15",
   "metadata": {},
   "source": [
    "### Python Function vs SymPy Expression"
   ]
  },
  {
   "cell_type": "markdown",
   "id": "93a0d19e-f5c7-45b0-a224-ed670a6e7d12",
   "metadata": {},
   "source": [
    "In Python, without SymPy, you think that you can write reusable mathematical formula like `x**2 + 2*x + 3` as function"
   ]
  },
  {
   "cell_type": "code",
   "execution_count": 40,
   "id": "4cfa1f59-6244-4172-a385-6c1267ef73c2",
   "metadata": {},
   "outputs": [
    {
     "data": {
      "text/plain": [
       "6"
      ]
     },
     "execution_count": 40,
     "metadata": {},
     "output_type": "execute_result"
    }
   ],
   "source": [
    "def func(x):\n",
    "    return x**2 + 2*x + 3\n",
    "func(1)"
   ]
  },
  {
   "cell_type": "markdown",
   "id": "1bd10c35-e05a-47a9-8cf4-dcb298bb435f",
   "metadata": {},
   "source": [
    "What's the difference of it with SymPy expression?"
   ]
  },
  {
   "cell_type": "code",
   "execution_count": 8,
   "id": "ece3176f-989e-481a-b4f8-bd8e9594c649",
   "metadata": {},
   "outputs": [
    {
     "data": {
      "text/latex": [
       "$\\displaystyle x^{2} + 2 x + 3$"
      ],
      "text/plain": [
       "x**2 + 2*x + 3"
      ]
     },
     "execution_count": 8,
     "metadata": {},
     "output_type": "execute_result"
    }
   ],
   "source": [
    "x = Symbol('x')\n",
    "expr = x**2 + 2*x + 3\n",
    "expr"
   ]
  },
  {
   "cell_type": "markdown",
   "id": "eecdb74d-57cc-4cdb-adb7-0fd94edfe521",
   "metadata": {},
   "source": [
    "The critical difference is that in Python, `x**2 + 2*x + 3` only stays as code, and gone when you run it.\n",
    "\n",
    "You can see that it is represented as something like `<function ...>` and you can get nothing about it."
   ]
  },
  {
   "cell_type": "code",
   "execution_count": 44,
   "id": "09061cdf-f03b-4ef9-b111-f4e0cd4c907f",
   "metadata": {},
   "outputs": [
    {
     "data": {
      "text/plain": [
       "<function __main__.func(x)>"
      ]
     },
     "execution_count": 44,
     "metadata": {},
     "output_type": "execute_result"
    }
   ],
   "source": [
    "func"
   ]
  },
  {
   "cell_type": "markdown",
   "id": "812f49f2-6a96-40d7-94bb-7e4cf70a9196",
   "metadata": {},
   "source": [
    "The code doesn't keep any mathematical semantics at all."
   ]
  },
  {
   "cell_type": "code",
   "execution_count": 45,
   "id": "82b0f0cf-e0f6-4cf9-ace3-87353a76ee06",
   "metadata": {},
   "outputs": [
    {
     "name": "stdout",
     "output_type": "stream",
     "text": [
      "  1           0 RESUME                   0\n",
      "\n",
      "  2           2 LOAD_FAST                0 (x)\n",
      "              4 LOAD_CONST               1 (2)\n",
      "              6 BINARY_OP                8 (**)\n",
      "             10 LOAD_CONST               1 (2)\n",
      "             12 LOAD_FAST                0 (x)\n",
      "             14 BINARY_OP                5 (*)\n",
      "             18 BINARY_OP                0 (+)\n",
      "             22 LOAD_CONST               2 (3)\n",
      "             24 BINARY_OP                0 (+)\n",
      "             28 RETURN_VALUE\n"
     ]
    }
   ],
   "source": [
    "from dis import dis\n",
    "\n",
    "dis(func)"
   ]
  },
  {
   "cell_type": "markdown",
   "id": "b4e1dab0-1faf-4420-9557-50f5307d3eca",
   "metadata": {},
   "source": [
    "In Python, evaluating something is direct.\n",
    "\n",
    "However, doing math with the code is very indirect direct and difficult.\n",
    "\n",
    "You always need to do some other math by hand before writing code with `math, numpy`.\n",
    "\n",
    "For example, when you want to compute the derivative with the `func`, you need to do by hand and write a new code"
   ]
  },
  {
   "cell_type": "code",
   "execution_count": 48,
   "id": "2a6d6904-f454-4888-9a5a-e2c4c2d2a0ae",
   "metadata": {},
   "outputs": [
    {
     "data": {
      "text/plain": [
       "4"
      ]
     },
     "execution_count": 48,
     "metadata": {},
     "output_type": "execute_result"
    }
   ],
   "source": [
    "def d_func(x):\n",
    "    return 2*x + 2\n",
    "\n",
    "d_func(1)"
   ]
  },
  {
   "cell_type": "markdown",
   "id": "35060771-0c95-442d-930d-a979ecff53b4",
   "metadata": {},
   "source": [
    "In SymPy, doing the math with the code is easy.\n",
    "\n",
    "However, evaluation becomes a bit indirect.\n",
    "\n",
    "To evaluate with SymPy, you should use `subs`"
   ]
  },
  {
   "cell_type": "code",
   "execution_count": 47,
   "id": "ed2594ad-9d6e-4e4c-ad04-700405b82982",
   "metadata": {},
   "outputs": [
    {
     "data": {
      "text/latex": [
       "$\\displaystyle 6$"
      ],
      "text/plain": [
       "6"
      ]
     },
     "execution_count": 47,
     "metadata": {},
     "output_type": "execute_result"
    }
   ],
   "source": [
    "expr.subs(x, 1)"
   ]
  },
  {
   "cell_type": "markdown",
   "id": "ffa9ac13-2b03-41e2-9871-434d1274a5ca",
   "metadata": {},
   "source": [
    "However, if you want to do the derivative, you don't need to do the math by hand."
   ]
  },
  {
   "cell_type": "code",
   "execution_count": 50,
   "id": "7b9e8859-2467-4a4f-bafb-cd114e0d8395",
   "metadata": {},
   "outputs": [
    {
     "data": {
      "text/latex": [
       "$\\displaystyle 2 x + 2$"
      ],
      "text/plain": [
       "2*x + 2"
      ]
     },
     "execution_count": 50,
     "metadata": {},
     "output_type": "execute_result"
    }
   ],
   "source": [
    "d_expr = expr.diff(x)\n",
    "d_expr"
   ]
  },
  {
   "cell_type": "code",
   "execution_count": 51,
   "id": "5b43b843-47a0-4824-a09e-fcfea2a4cae6",
   "metadata": {},
   "outputs": [
    {
     "data": {
      "text/latex": [
       "$\\displaystyle 4$"
      ],
      "text/plain": [
       "4"
      ]
     },
     "execution_count": 51,
     "metadata": {},
     "output_type": "execute_result"
    }
   ],
   "source": [
    "d_expr.subs(x, 1)"
   ]
  },
  {
   "cell_type": "markdown",
   "id": "c0f7e691-f307-4b40-b389-fd864eccb0f5",
   "metadata": {},
   "source": [
    "#### Exercise"
   ]
  },
  {
   "cell_type": "markdown",
   "id": "4777a544-26dd-45c1-a851-5380ea8805a7",
   "metadata": {},
   "source": [
    "Chebyshev polynomials are defined by the recurrence relation\n",
    "\n",
    "`chebyshev(k, x) = 2*x*chebyshev(k - 1, x) - chebyshev(k - 2, x)`\n",
    "\n",
    "With initial conditions:\n",
    "\n",
    "- `chebyshev(0, x) = 1`\n",
    "- `chebyshev(1, x) = x`\n",
    "\n",
    "Chebyshev polynomials are a good example of how to use \n",
    "general-purpose programming language with computer algebra systems non-trivially.\n",
    "\n",
    "Try to build your own Python function `chebyshev`,\n",
    "and use it to build SymPy expressions procedurally."
   ]
  },
  {
   "cell_type": "code",
   "execution_count": null,
   "id": "03d57474-c504-4d6f-a40c-932926e624e5",
   "metadata": {},
   "outputs": [],
   "source": []
  },
  {
   "cell_type": "markdown",
   "id": "e1a9050d-86f2-4ea5-beac-a0e5e2a82b87",
   "metadata": {},
   "source": [
    "### Function Symbols"
   ]
  },
  {
   "cell_type": "markdown",
   "id": "d52e4807-1eb4-4906-9e40-879034162bf0",
   "metadata": {},
   "source": [
    "In order to create function symbols, you need to use `Function` constructor."
   ]
  },
  {
   "cell_type": "code",
   "execution_count": 11,
   "id": "08d101a7-2c13-45cd-8400-52cc5ace64e8",
   "metadata": {},
   "outputs": [
    {
     "data": {
      "text/latex": [
       "$\\displaystyle f{\\left(x \\right)}$"
      ],
      "text/plain": [
       "f(x)"
      ]
     },
     "execution_count": 11,
     "metadata": {},
     "output_type": "execute_result"
    }
   ],
   "source": [
    "f = Function('f')\n",
    "g = Function('g')\n",
    "\n",
    "x, y = symbols('x y')\n",
    "f(x)"
   ]
  },
  {
   "cell_type": "code",
   "execution_count": 12,
   "id": "64ba8d0d-ca05-452f-9846-8bc82111b34e",
   "metadata": {},
   "outputs": [
    {
     "data": {
      "text/latex": [
       "$\\displaystyle g{\\left(x,y \\right)}$"
      ],
      "text/plain": [
       "g(x, y)"
      ]
     },
     "execution_count": 12,
     "metadata": {},
     "output_type": "execute_result"
    }
   ],
   "source": [
    "g(x, y)"
   ]
  },
  {
   "cell_type": "code",
   "execution_count": 13,
   "id": "a8561952-e2ad-4276-b281-056c5d32df8f",
   "metadata": {},
   "outputs": [
    {
     "data": {
      "text/latex": [
       "$\\displaystyle g{\\left(f{\\left(x \\right)},y \\right)}$"
      ],
      "text/plain": [
       "g(f(x), y)"
      ]
     },
     "execution_count": 13,
     "metadata": {},
     "output_type": "execute_result"
    }
   ],
   "source": [
    "g(f(x), y)"
   ]
  },
  {
   "cell_type": "markdown",
   "id": "e938e6b6-a52e-4e9e-9ba8-1272bad2d1cd",
   "metadata": {},
   "source": [
    "Function symbols are useful for denotational purposes, and necessary for solving differential equations (to be explained)"
   ]
  },
  {
   "cell_type": "markdown",
   "id": "b8c90ba7-b6c6-4251-9e02-b8d87fc9974d",
   "metadata": {},
   "source": [
    "#### Exercises"
   ]
  },
  {
   "cell_type": "markdown",
   "id": "7917e1db-ea26-49d5-ad27-b0996cf2dd1e",
   "metadata": {},
   "source": [
    "- Build a functional expression $\\sqrt{f_1(x) + 2}$"
   ]
  },
  {
   "cell_type": "code",
   "execution_count": null,
   "id": "a994d1bb-345a-42d0-bdb6-ac12e9eaa390",
   "metadata": {},
   "outputs": [],
   "source": []
  },
  {
   "cell_type": "markdown",
   "id": "9787c739-389a-4d4a-b1dd-79e184c5825e",
   "metadata": {},
   "source": [
    "## Complex Numbers"
   ]
  },
  {
   "cell_type": "markdown",
   "id": "bbf4a5dd-42bf-4dd2-acde-49bda8205989",
   "metadata": {},
   "source": [
    "In order to define complex numbers with SymPy, write polynomial expression with imaginary constant `sympy.I`.\n",
    "\n",
    "Although Python uses `j`, however, it cannot be used in sympy because it is hardcoded into complex floating points."
   ]
  },
  {
   "cell_type": "code",
   "execution_count": 19,
   "id": "1c712f90-40b0-4a36-9d7c-46bc5dee9621",
   "metadata": {},
   "outputs": [
    {
     "data": {
      "text/latex": [
       "$\\displaystyle 1 + 2 i$"
      ],
      "text/plain": [
       "1 + 2*I"
      ]
     },
     "execution_count": 19,
     "metadata": {},
     "output_type": "execute_result"
    }
   ],
   "source": [
    "1 + 2*I"
   ]
  },
  {
   "cell_type": "code",
   "execution_count": 20,
   "id": "2509eb6e-2e8f-4308-bf86-2d41d8258d3c",
   "metadata": {},
   "outputs": [
    {
     "data": {
      "text/latex": [
       "$\\displaystyle -1$"
      ],
      "text/plain": [
       "-1"
      ]
     },
     "execution_count": 20,
     "metadata": {},
     "output_type": "execute_result"
    }
   ],
   "source": [
    "I*I"
   ]
  },
  {
   "cell_type": "markdown",
   "id": "bd2ec8bf-2d2c-49d2-8700-220fc4cb069c",
   "metadata": {},
   "source": [
    "SymPy knows some mathematical identities with complex numbers"
   ]
  },
  {
   "cell_type": "code",
   "execution_count": 14,
   "id": "7acb94b4-b03d-4709-889a-028196dd274c",
   "metadata": {},
   "outputs": [
    {
     "data": {
      "text/latex": [
       "$\\displaystyle i$"
      ],
      "text/plain": [
       "I"
      ]
     },
     "execution_count": 14,
     "metadata": {},
     "output_type": "execute_result"
    }
   ],
   "source": [
    "sqrt(-1)"
   ]
  },
  {
   "cell_type": "code",
   "execution_count": 21,
   "id": "9814c862-6d79-4cbf-be7a-f5e47ed36109",
   "metadata": {},
   "outputs": [
    {
     "ename": "ValueError",
     "evalue": "math domain error",
     "output_type": "error",
     "traceback": [
      "\u001b[0;31m---------------------------------------------------------------------------\u001b[0m",
      "\u001b[0;31mValueError\u001b[0m                                Traceback (most recent call last)",
      "Cell \u001b[0;32mIn[21], line 3\u001b[0m\n\u001b[1;32m      1\u001b[0m \u001b[38;5;28;01mimport\u001b[39;00m \u001b[38;5;21;01mmath\u001b[39;00m\n\u001b[0;32m----> 3\u001b[0m \u001b[43mmath\u001b[49m\u001b[38;5;241;43m.\u001b[39;49m\u001b[43msqrt\u001b[49m\u001b[43m(\u001b[49m\u001b[38;5;241;43m-\u001b[39;49m\u001b[38;5;241;43m1\u001b[39;49m\u001b[43m)\u001b[49m\n",
      "\u001b[0;31mValueError\u001b[0m: math domain error"
     ]
    }
   ],
   "source": [
    "import math\n",
    "\n",
    "math.sqrt(-1)"
   ]
  },
  {
   "cell_type": "markdown",
   "id": "92f0e67f-6468-4ef6-8ea5-72c23beab11e",
   "metadata": {},
   "source": [
    "For example, this shows Euler's identity"
   ]
  },
  {
   "cell_type": "code",
   "execution_count": 22,
   "id": "74531a74-f0ef-4748-8175-65caf5f009a3",
   "metadata": {},
   "outputs": [
    {
     "data": {
      "text/latex": [
       "$\\displaystyle -1$"
      ],
      "text/plain": [
       "-1"
      ]
     },
     "execution_count": 22,
     "metadata": {},
     "output_type": "execute_result"
    }
   ],
   "source": [
    "exp(I*pi)"
   ]
  },
  {
   "cell_type": "code",
   "execution_count": 23,
   "id": "1b911511-adee-406e-8e97-0939ef685819",
   "metadata": {},
   "outputs": [
    {
     "ename": "TypeError",
     "evalue": "must be real number, not complex",
     "output_type": "error",
     "traceback": [
      "\u001b[0;31m---------------------------------------------------------------------------\u001b[0m",
      "\u001b[0;31mTypeError\u001b[0m                                 Traceback (most recent call last)",
      "Cell \u001b[0;32mIn[23], line 1\u001b[0m\n\u001b[0;32m----> 1\u001b[0m \u001b[43mmath\u001b[49m\u001b[38;5;241;43m.\u001b[39;49m\u001b[43mexp\u001b[49m\u001b[43m(\u001b[49m\u001b[38;5;241;43m1\u001b[39;49m\u001b[43mj\u001b[49m\u001b[43m \u001b[49m\u001b[38;5;241;43m*\u001b[39;49m\u001b[43m \u001b[49m\u001b[43mmath\u001b[49m\u001b[38;5;241;43m.\u001b[39;49m\u001b[43mpi\u001b[49m\u001b[43m)\u001b[49m\n",
      "\u001b[0;31mTypeError\u001b[0m: must be real number, not complex"
     ]
    }
   ],
   "source": [
    "math.exp(1j * math.pi)"
   ]
  },
  {
   "cell_type": "markdown",
   "id": "5bfd56dd-17fd-4c14-9c76-49079cbee6f9",
   "metadata": {},
   "source": [
    "And sympy knows some complex trigonometric identities as well.\n",
    "\n",
    "Sympy (or computer algebra systems in general) defines functions \n",
    "very generally, and mathematically elegantally with complex analysis."
   ]
  },
  {
   "cell_type": "code",
   "execution_count": 18,
   "id": "bd10a986-25ea-48be-8983-daf7d07e30ab",
   "metadata": {},
   "outputs": [
    {
     "data": {
      "text/latex": [
       "$\\displaystyle i \\sinh{\\left(x \\right)}$"
      ],
      "text/plain": [
       "I*sinh(x)"
      ]
     },
     "execution_count": 18,
     "metadata": {},
     "output_type": "execute_result"
    }
   ],
   "source": [
    "sin(I*x)"
   ]
  },
  {
   "cell_type": "markdown",
   "id": "a324a6a2-ea64-42c3-838d-e6bf7c75e391",
   "metadata": {},
   "source": [
    "### Exercises"
   ]
  },
  {
   "cell_type": "markdown",
   "id": "0c2a3be7-3572-4989-9d1e-cbe1ea2e0a14",
   "metadata": {},
   "source": [
    "- Create a complex number $\\frac{5 + i \\sqrt{3}}{1 - i \\sqrt{3}}$\n",
    "- Create a complex expression $x + y \\sqrt{3} i$"
   ]
  },
  {
   "cell_type": "code",
   "execution_count": null,
   "id": "0b0e1b1f-6f31-45b1-852a-24000b474440",
   "metadata": {},
   "outputs": [],
   "source": []
  },
  {
   "cell_type": "markdown",
   "id": "03879675-b466-460b-a940-8cf29009c5ec",
   "metadata": {},
   "source": [
    "# Sympify"
   ]
  },
  {
   "cell_type": "markdown",
   "id": "0580735c-eead-4bca-8976-bddd86fb7336",
   "metadata": {},
   "source": [
    "The important feature of sympify is that it can convert Python data types into SymPy.\n",
    "\n",
    "In SymPy, `sympify` is used to inject SymPy's interfaces to python ground types `int, float, str, tuple, set, dict, ...` for compatibility."
   ]
  },
  {
   "cell_type": "code",
   "execution_count": 87,
   "id": "3c5888d4-c419-41b6-b958-ed8fabbfd5b0",
   "metadata": {},
   "outputs": [
    {
     "data": {
      "text/latex": [
       "$\\displaystyle 123$"
      ],
      "text/plain": [
       "123"
      ]
     },
     "execution_count": 87,
     "metadata": {},
     "output_type": "execute_result"
    }
   ],
   "source": [
    "sympify(123)"
   ]
  },
  {
   "cell_type": "code",
   "execution_count": 88,
   "id": "6c6159c8-2919-4402-a6d6-6543bf2d0b03",
   "metadata": {},
   "outputs": [
    {
     "data": {
      "text/plain": [
       "123"
      ]
     },
     "execution_count": 88,
     "metadata": {},
     "output_type": "execute_result"
    }
   ],
   "source": [
    "int(sympify(123))"
   ]
  },
  {
   "cell_type": "code",
   "execution_count": 82,
   "id": "7a0bd88a-7bb6-4c42-a1f7-ae4bc5d648e0",
   "metadata": {},
   "outputs": [
    {
     "data": {
      "text/latex": [
       "$\\displaystyle 1.23$"
      ],
      "text/plain": [
       "1.23000000000000"
      ]
     },
     "execution_count": 82,
     "metadata": {},
     "output_type": "execute_result"
    }
   ],
   "source": [
    "sympify(1.23)"
   ]
  },
  {
   "cell_type": "code",
   "execution_count": 83,
   "id": "e8e8985f-cfe8-4955-b381-7140e999a1b8",
   "metadata": {},
   "outputs": [
    {
     "data": {
      "text/plain": [
       "1.23"
      ]
     },
     "execution_count": 83,
     "metadata": {},
     "output_type": "execute_result"
    }
   ],
   "source": [
    "float(sympify(1.23))"
   ]
  },
  {
   "cell_type": "code",
   "execution_count": 80,
   "id": "0fef515d-f76e-43ef-88b7-5ac2bcb96fe1",
   "metadata": {},
   "outputs": [
    {
     "data": {
      "text/latex": [
       "$\\displaystyle \\left( 1, \\  2, \\  3\\right)$"
      ],
      "text/plain": [
       "(1, 2, 3)"
      ]
     },
     "execution_count": 80,
     "metadata": {},
     "output_type": "execute_result"
    }
   ],
   "source": [
    "sympify((1, 2, 3))"
   ]
  },
  {
   "cell_type": "code",
   "execution_count": 81,
   "id": "7325a511-97e7-4f4b-96f3-10b6aff36a92",
   "metadata": {},
   "outputs": [
    {
     "data": {
      "text/plain": [
       "(1, 2, 3)"
      ]
     },
     "execution_count": 81,
     "metadata": {},
     "output_type": "execute_result"
    }
   ],
   "source": [
    "tuple(sympify((1, 2, 3)))"
   ]
  },
  {
   "cell_type": "code",
   "execution_count": 84,
   "id": "f69a9eb2-e140-4b17-a4d8-4356e3e815ff",
   "metadata": {},
   "outputs": [
    {
     "data": {
      "text/latex": [
       "$\\displaystyle \\left\\{1, 2, 3\\right\\}$"
      ],
      "text/plain": [
       "{1, 2, 3}"
      ]
     },
     "execution_count": 84,
     "metadata": {},
     "output_type": "execute_result"
    }
   ],
   "source": [
    "sympify({1, 2, 3})"
   ]
  },
  {
   "cell_type": "code",
   "execution_count": 85,
   "id": "aa53c19b-d311-452f-8cc8-d29a381b0f99",
   "metadata": {},
   "outputs": [
    {
     "data": {
      "text/plain": [
       "{1, 2, 3}"
      ]
     },
     "execution_count": 85,
     "metadata": {},
     "output_type": "execute_result"
    }
   ],
   "source": [
    "set(sympify({1, 2, 3}))"
   ]
  },
  {
   "cell_type": "code",
   "execution_count": 92,
   "id": "f639331f-2ebd-4660-9cea-41594c3d9f5f",
   "metadata": {},
   "outputs": [
    {
     "data": {
      "text/latex": [
       "$\\displaystyle \\left[\\begin{matrix}1 & 2\\\\3 & 4\\end{matrix}\\right]$"
      ],
      "text/plain": [
       "[[1, 2], [3, 4]]"
      ]
     },
     "execution_count": 92,
     "metadata": {},
     "output_type": "execute_result"
    }
   ],
   "source": [
    "sympify(numpy.array([[1, 2], [3, 4]]))"
   ]
  },
  {
   "cell_type": "markdown",
   "id": "aeb6d85c-3048-4e04-9cfc-1e39a7cea0dc",
   "metadata": {},
   "source": [
    "SymPy data types have all the rich mathematical interfaces (compute `diff`, compute series, ...),\n",
    "even for simple numbers.\n",
    "\n",
    "However, if you are going to use SymPy objects in other library, \n",
    "\n",
    "You need to convert them back to Python numeric data types because they may not know how to handle sympy data types."
   ]
  },
  {
   "cell_type": "markdown",
   "id": "4572b77c-42a5-4160-b44e-0b8d10a7cd8a",
   "metadata": {},
   "source": [
    "## Exercises"
   ]
  },
  {
   "cell_type": "markdown",
   "id": "f91a7aec-c1c0-4658-930e-ed8b2a72fc8b",
   "metadata": {},
   "source": [
    "- Try to sympify and un-sympify the tuple $(x, 1)$\n",
    "- Try to un-sympify the sympy matrix $\\begin{bmatrix} 1 & 2 \\\\ 3 & 4 \\end{bmatrix}$ to numpy array"
   ]
  },
  {
   "cell_type": "code",
   "execution_count": null,
   "id": "4fa02628-8218-49a3-9aaa-45c48261fd68",
   "metadata": {},
   "outputs": [],
   "source": []
  }
 ],
 "metadata": {
  "kernelspec": {
   "display_name": "Python 3 (ipykernel)",
   "language": "python",
   "name": "python3"
  },
  "language_info": {
   "codemirror_mode": {
    "name": "ipython",
    "version": 3
   },
   "file_extension": ".py",
   "mimetype": "text/x-python",
   "name": "python",
   "nbconvert_exporter": "python",
   "pygments_lexer": "ipython3",
   "version": "3.11.2"
  }
 },
 "nbformat": 4,
 "nbformat_minor": 5
}
