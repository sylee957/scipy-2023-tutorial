{
 "cells": [
  {
   "cell_type": "markdown",
   "id": "605cb9dc-38b9-435b-9937-494e1dbbbb75",
   "metadata": {},
   "source": [
    "# Substitution"
   ]
  },
  {
   "cell_type": "markdown",
   "id": "4638426d-7189-419d-a916-1cb6c157fe71",
   "metadata": {},
   "source": [
    "In the prior section, you learned how to build the sympy expressions."
   ]
  },
  {
   "cell_type": "code",
   "execution_count": 7,
   "id": "3e249898-582c-4d24-8408-7bd0297c539f",
   "metadata": {},
   "outputs": [
    {
     "data": {
      "text/latex": [
       "$\\displaystyle x^{2} + x + 1$"
      ],
      "text/plain": [
       "x**2 + x + 1"
      ]
     },
     "execution_count": 7,
     "metadata": {},
     "output_type": "execute_result"
    }
   ],
   "source": [
    "from sympy import *\n",
    "\n",
    "x = Symbol('x')\n",
    "f = x**2 + x + 1\n",
    "f"
   ]
  },
  {
   "cell_type": "markdown",
   "id": "f533146d-bc9c-4765-bdee-82098e2a6883",
   "metadata": {},
   "source": [
    "However, how to edit the mathematical expression?\n",
    "\n",
    "You are not able to edit by re-assigning the variable "
   ]
  },
  {
   "cell_type": "code",
   "execution_count": 8,
   "id": "fa9e360b-329e-4c0f-9452-274463fd8c14",
   "metadata": {},
   "outputs": [
    {
     "data": {
      "text/latex": [
       "$\\displaystyle x^{2} + x + 1$"
      ],
      "text/plain": [
       "x**2 + x + 1"
      ]
     },
     "execution_count": 8,
     "metadata": {},
     "output_type": "execute_result"
    }
   ],
   "source": [
    "x = Symbol('y')\n",
    "f"
   ]
  },
  {
   "cell_type": "markdown",
   "id": "bd5cf7bf-3d19-4e3d-8b98-42d2406a6864",
   "metadata": {},
   "source": [
    "And you are not able to edit the sympy expression directly,\n",
    "because sympy protects it."
   ]
  },
  {
   "cell_type": "code",
   "execution_count": 12,
   "id": "f4406c49-cc38-4d5e-b350-06729d4dc743",
   "metadata": {},
   "outputs": [
    {
     "ename": "TypeError",
     "evalue": "'tuple' object does not support item assignment",
     "output_type": "error",
     "traceback": [
      "\u001b[0;31m---------------------------------------------------------------------------\u001b[0m",
      "\u001b[0;31mTypeError\u001b[0m                                 Traceback (most recent call last)",
      "Cell \u001b[0;32mIn[12], line 1\u001b[0m\n\u001b[0;32m----> 1\u001b[0m \u001b[43mf\u001b[49m\u001b[38;5;241;43m.\u001b[39;49m\u001b[43margs\u001b[49m\u001b[43m[\u001b[49m\u001b[38;5;241;43m1\u001b[39;49m\u001b[43m]\u001b[49m \u001b[38;5;241m=\u001b[39m Symbol(\u001b[38;5;124m'\u001b[39m\u001b[38;5;124my\u001b[39m\u001b[38;5;124m'\u001b[39m)\n",
      "\u001b[0;31mTypeError\u001b[0m: 'tuple' object does not support item assignment"
     ]
    }
   ],
   "source": [
    "f.args[1] = Symbol('y')"
   ]
  },
  {
   "cell_type": "markdown",
   "id": "221b5d12-de07-44a1-9005-d9b02ed9a7e6",
   "metadata": {},
   "source": [
    "In fact, the only ways to make a new formula is:\n",
    "\n",
    "Destroying the old formula and try to build new formula by scratch.\n"
   ]
  },
  {
   "cell_type": "code",
   "execution_count": 14,
   "id": "9289ced0-df84-44ff-978c-7b6d526ae602",
   "metadata": {},
   "outputs": [
    {
     "data": {
      "text/latex": [
       "$\\displaystyle y^{2} + y + 1$"
      ],
      "text/plain": [
       "y**2 + y + 1"
      ]
     },
     "execution_count": 14,
     "metadata": {},
     "output_type": "execute_result"
    }
   ],
   "source": [
    "y = Symbol('y')\n",
    "y**2 + y + 1"
   ]
  },
  {
   "cell_type": "markdown",
   "id": "f0c2900a-2689-4b0e-a480-4d721d958b3a",
   "metadata": {},
   "source": [
    "However, in this way, you can't reuse the old formula programmatically.\n",
    "\n",
    "The programatic way to replace $x$ by $y$ is substitution"
   ]
  },
  {
   "cell_type": "code",
   "execution_count": 17,
   "id": "fc434c67-0eab-462c-9ffe-6cfb750a2666",
   "metadata": {},
   "outputs": [
    {
     "data": {
      "text/latex": [
       "$\\displaystyle y^{2} + y + 1$"
      ],
      "text/plain": [
       "y**2 + y + 1"
      ]
     },
     "execution_count": 17,
     "metadata": {},
     "output_type": "execute_result"
    }
   ],
   "source": [
    "x = Symbol('x')\n",
    "y = Symbol('y')\n",
    "g = f.subs(x, y)\n",
    "g"
   ]
  },
  {
   "cell_type": "markdown",
   "id": "4ba48001-8811-4556-8d98-f994a5214f11",
   "metadata": {},
   "source": [
    "Because sympy expressions are immutable, the substitution doesn't change the original expression"
   ]
  },
  {
   "cell_type": "code",
   "execution_count": 19,
   "id": "3f3903ec-1e03-4546-a3f1-aa9034c61a62",
   "metadata": {},
   "outputs": [
    {
     "data": {
      "text/latex": [
       "$\\displaystyle x^{2} + x + 1$"
      ],
      "text/plain": [
       "x**2 + x + 1"
      ]
     },
     "execution_count": 19,
     "metadata": {},
     "output_type": "execute_result"
    }
   ],
   "source": [
    "f"
   ]
  },
  {
   "cell_type": "markdown",
   "id": "1b277497-a367-46d2-9b3d-287d34995399",
   "metadata": {},
   "source": [
    "It's similar to string `replace` in Python"
   ]
  },
  {
   "cell_type": "code",
   "execution_count": 22,
   "id": "e4e980bc-a845-4a5d-a6dd-0d4ecb9799c8",
   "metadata": {},
   "outputs": [
    {
     "data": {
      "text/plain": [
       "'(y + 1)**2 + (y + 1) + 1'"
      ]
     },
     "execution_count": 22,
     "metadata": {},
     "output_type": "execute_result"
    }
   ],
   "source": [
    "f = \"x**2 + x + 1\"\n",
    "g = f.replace('x', '(y + 1)')\n",
    "g"
   ]
  },
  {
   "cell_type": "code",
   "execution_count": 23,
   "id": "a5e40208-8edd-4454-808d-36290643fd77",
   "metadata": {},
   "outputs": [
    {
     "data": {
      "text/plain": [
       "'x**2 + x + 1'"
      ]
     },
     "execution_count": 23,
     "metadata": {},
     "output_type": "execute_result"
    }
   ],
   "source": [
    "f"
   ]
  },
  {
   "cell_type": "markdown",
   "id": "3ea1982d-7030-49b5-ae2b-b8332c3507a2",
   "metadata": {},
   "source": [
    "Substitution the variable with general function works\n",
    "\n",
    "(with automatic evaluation)"
   ]
  },
  {
   "cell_type": "code",
   "execution_count": 55,
   "id": "eaadbd08-8178-47fb-a387-71913a3b6d8a",
   "metadata": {},
   "outputs": [
    {
     "data": {
      "text/latex": [
       "$\\displaystyle y + \\left(y + 1\\right)^{2} + 2$"
      ],
      "text/plain": [
       "y + (y + 1)**2 + 2"
      ]
     },
     "execution_count": 55,
     "metadata": {},
     "output_type": "execute_result"
    }
   ],
   "source": [
    "x = Symbol('x')\n",
    "y = Symbol('y')\n",
    "expr = x**2 + x + 1\n",
    "expr.subs(x, y + 1)"
   ]
  },
  {
   "cell_type": "code",
   "execution_count": 56,
   "id": "dbc61768-f0fd-4133-8665-9c49dab8d6e3",
   "metadata": {},
   "outputs": [
    {
     "data": {
      "text/latex": [
       "$\\displaystyle f^{2}{\\left(y + 1 \\right)} + f{\\left(y + 1 \\right)} + 1$"
      ],
      "text/plain": [
       "f(y + 1)**2 + f(y + 1) + 1"
      ]
     },
     "execution_count": 56,
     "metadata": {},
     "output_type": "execute_result"
    }
   ],
   "source": [
    "f = Function('f')\n",
    "\n",
    "expr.subs(x, f(y + 1))"
   ]
  },
  {
   "cell_type": "markdown",
   "id": "70aa16f9-b153-4356-9565-647997c7310d",
   "metadata": {},
   "source": [
    "Multivariate substitution also works\n",
    "(with dictionary)"
   ]
  },
  {
   "cell_type": "code",
   "execution_count": 57,
   "id": "084ec64a-19ed-4596-97a7-54aa876de53e",
   "metadata": {},
   "outputs": [
    {
     "data": {
      "text/latex": [
       "$\\displaystyle f{\\left(f{\\left(1 \\right)},g{\\left(f{\\left(1 \\right)},2 \\right)} \\right)}$"
      ],
      "text/plain": [
       "f(f(1), g(f(1), 2))"
      ]
     },
     "execution_count": 57,
     "metadata": {},
     "output_type": "execute_result"
    }
   ],
   "source": [
    "expr = f(x, y)\n",
    "g = Function('g')\n",
    "\n",
    "expr.subs({x: f(1), y: g(f(1), 2)})"
   ]
  },
  {
   "cell_type": "markdown",
   "id": "ba8cbb60-8338-41e3-9353-95dfe72ac91d",
   "metadata": {},
   "source": [
    "The source of substitution can be more general than symbols"
   ]
  },
  {
   "cell_type": "code",
   "execution_count": 61,
   "id": "cc5516e2-6c86-4950-af1f-9abac305c865",
   "metadata": {},
   "outputs": [
    {
     "data": {
      "text/latex": [
       "$\\displaystyle g{\\left(y \\right)} + h{\\left(z \\right)} + 1$"
      ],
      "text/plain": [
       "g(y) + h(z) + 1"
      ]
     },
     "execution_count": 61,
     "metadata": {},
     "output_type": "execute_result"
    }
   ],
   "source": [
    "expr = f(x + 1) + g(y) + 1\n",
    "h = Function('h')\n",
    "z = Symbol('z')\n",
    "\n",
    "expr.subs(f(x + 1), h(z))"
   ]
  },
  {
   "cell_type": "markdown",
   "id": "054f49bd-6db8-4841-9e65-e5adf8893f21",
   "metadata": {},
   "source": [
    "## Pattern Matching"
   ]
  },
  {
   "cell_type": "markdown",
   "id": "3469cecc-1fb9-4a1f-8722-04999975ead1",
   "metadata": {},
   "source": [
    "The pattern matching is useful for finding the coffecients for mathematical formula.\n",
    "\n",
    "For example, if you want to check if the formula is a quadraitic equation,\n",
    "you can define some pattern expression $ax^2 + bx + c$ using `Wild`."
   ]
  },
  {
   "cell_type": "code",
   "execution_count": 76,
   "id": "81b28c79-8451-493e-a6ed-83738b85f5e8",
   "metadata": {},
   "outputs": [
    {
     "data": {
      "text/latex": [
       "$\\displaystyle x^{2} a + x b + c$"
      ],
      "text/plain": [
       "x**2*a_ + x*b_ + c_"
      ]
     },
     "execution_count": 76,
     "metadata": {},
     "output_type": "execute_result"
    }
   ],
   "source": [
    "x = Symbol('x')\n",
    "a = Wild('a')\n",
    "b = Wild('b')\n",
    "c = Wild('c')\n",
    "\n",
    "pattern = a*x**2 + b*x + c\n",
    "pattern"
   ]
  },
  {
   "cell_type": "markdown",
   "id": "7e2e0ddf-65d4-4018-b347-49039bab695a",
   "metadata": {},
   "source": [
    "And you can use `expr.match(pattern)` to find the coefficients for the substitution."
   ]
  },
  {
   "cell_type": "code",
   "execution_count": 78,
   "id": "eba18b20-3c8c-4b28-a507-4a7e151dd551",
   "metadata": {},
   "outputs": [
    {
     "data": {
      "text/plain": [
       "{a_: 2, b_: 2, c_: 3}"
      ]
     },
     "execution_count": 78,
     "metadata": {},
     "output_type": "execute_result"
    }
   ],
   "source": [
    "expr = 2*x**2 + 2*x + 3\n",
    "match = expr.match(pattern)\n",
    "match"
   ]
  },
  {
   "cell_type": "markdown",
   "id": "9429a413-7998-49b1-85ab-993637233b74",
   "metadata": {},
   "source": [
    "It gives a substitution as solution satifying the equation\n",
    "\n",
    "`pattern.subs(match) == expr`"
   ]
  },
  {
   "cell_type": "code",
   "execution_count": 81,
   "id": "b43247ee-0491-4939-a8bd-c8c8fe2f9d66",
   "metadata": {},
   "outputs": [
    {
     "data": {
      "text/latex": [
       "$\\displaystyle 2 x^{2} + 2 x + 3$"
      ],
      "text/plain": [
       "2*x**2 + 2*x + 3"
      ]
     },
     "execution_count": 81,
     "metadata": {},
     "output_type": "execute_result"
    }
   ],
   "source": [
    "pattern.subs(match)"
   ]
  },
  {
   "cell_type": "markdown",
   "id": "a21e6b74-9de2-4dda-9100-6cf0310db8fc",
   "metadata": {},
   "source": [
    "We'd note that because of some ambiguity of pattern matching,\n",
    "it can give some undesired (but correct) answer.\n",
    "\n",
    "For example, the following match is correct syntactically, however, you wouldn't expect $x$ to appear in the coefficient"
   ]
  },
  {
   "cell_type": "code",
   "execution_count": 82,
   "id": "6412d14d-c9af-4ba2-b602-91f3e50a6be0",
   "metadata": {},
   "outputs": [
    {
     "data": {
      "text/plain": [
       "{a_: 2/x, b_: x, c_: 3}"
      ]
     },
     "execution_count": 82,
     "metadata": {},
     "output_type": "execute_result"
    }
   ],
   "source": [
    "expr = x**2 + 2*x + 3\n",
    "match = expr.match(pattern)\n",
    "match"
   ]
  },
  {
   "cell_type": "code",
   "execution_count": 83,
   "id": "17f5eadd-fc80-45ea-a8cd-d90fbd23f1d1",
   "metadata": {},
   "outputs": [
    {
     "data": {
      "text/latex": [
       "$\\displaystyle x^{2} + 2 x + 3$"
      ],
      "text/plain": [
       "x**2 + 2*x + 3"
      ]
     },
     "execution_count": 83,
     "metadata": {},
     "output_type": "execute_result"
    }
   ],
   "source": [
    "pattern.subs(match)"
   ]
  },
  {
   "cell_type": "markdown",
   "id": "7ab7d955-1b44-4c41-8636-fb6072e88099",
   "metadata": {},
   "source": [
    "For this case, you would need to use `exclude` option."
   ]
  },
  {
   "cell_type": "code",
   "execution_count": 85,
   "id": "9ad853c9-9ca5-484f-ab12-034a2de58114",
   "metadata": {},
   "outputs": [
    {
     "data": {
      "text/plain": [
       "{b_: 2, a_: 1, c_: 3}"
      ]
     },
     "execution_count": 85,
     "metadata": {},
     "output_type": "execute_result"
    }
   ],
   "source": [
    "a = Wild('a', exclude=[x])\n",
    "b = Wild('b', exclude=[x])\n",
    "c = Wild('c', exclude=[x])\n",
    "pattern = a*x**2 + b*x + c\n",
    "\n",
    "match = expr.match(pattern)\n",
    "match"
   ]
  },
  {
   "cell_type": "markdown",
   "id": "9e1dd9e6-568d-4f9e-b696-c4f98a625423",
   "metadata": {},
   "source": [
    "# Numeric Evaluation"
   ]
  },
  {
   "cell_type": "markdown",
   "id": "31e95951-1b65-45c8-8fe3-fa0fcdbfbf72",
   "metadata": {},
   "source": [
    "### Evaluating $\\pi$"
   ]
  },
  {
   "cell_type": "markdown",
   "id": "80c2bd43-ad53-4770-b8aa-c2c463d71a08",
   "metadata": {},
   "source": [
    "In Python math library, you can only get 17 digits of $\\pi$"
   ]
  },
  {
   "cell_type": "code",
   "execution_count": 108,
   "id": "5017ffbf-10d0-4cec-a5f1-1f5fb70815fc",
   "metadata": {},
   "outputs": [
    {
     "data": {
      "text/plain": [
       "3.141592653589793"
      ]
     },
     "execution_count": 108,
     "metadata": {},
     "output_type": "execute_result"
    }
   ],
   "source": [
    "import math\n",
    "\n",
    "math.pi"
   ]
  },
  {
   "cell_type": "markdown",
   "id": "cf7a88be-a11a-4c80-a4ba-01630d384388",
   "metadata": {},
   "source": [
    "How do you get 100 digits of $\\pi$? or even 1000 digits?"
   ]
  },
  {
   "cell_type": "code",
   "execution_count": 106,
   "id": "42baffb6-34bb-4ed8-ace2-01e0faf9161a",
   "metadata": {},
   "outputs": [
    {
     "data": {
      "text/latex": [
       "$\\displaystyle 3.141592653589793238462643383279502884197169399375105820974944592307816406286208998628034825342117068$"
      ],
      "text/plain": [
       "3.141592653589793238462643383279502884197169399375105820974944592307816406286208998628034825342117068"
      ]
     },
     "execution_count": 106,
     "metadata": {},
     "output_type": "execute_result"
    }
   ],
   "source": [
    "pi.evalf(100)"
   ]
  },
  {
   "cell_type": "markdown",
   "id": "70bd80cd-6431-4168-a200-ebd2d1e2e86a",
   "metadata": {},
   "source": [
    "## Expand the decimals"
   ]
  },
  {
   "cell_type": "code",
   "execution_count": 168,
   "id": "3785d311-fdd5-4bd4-9965-59fed0b5ed67",
   "metadata": {},
   "outputs": [
    {
     "data": {
      "text/latex": [
       "$\\displaystyle 0.01010203051$"
      ],
      "text/plain": [
       "0.01010203051"
      ]
     },
     "metadata": {},
     "output_type": "display_data"
    },
    {
     "data": {
      "text/latex": [
       "$\\displaystyle 0.010102030508132134559$"
      ],
      "text/plain": [
       "0.010102030508132134559"
      ]
     },
     "metadata": {},
     "output_type": "display_data"
    },
    {
     "data": {
      "text/latex": [
       "$\\displaystyle 0.01010203050813213455904636832$"
      ],
      "text/plain": [
       "0.0101020305081321345590463683200"
      ]
     },
     "metadata": {},
     "output_type": "display_data"
    },
    {
     "data": {
      "text/latex": [
       "$\\displaystyle 0.01010203050813213455904636832003232649763$"
      ],
      "text/plain": [
       "0.01010203050813213455904636832003232649763"
      ]
     },
     "metadata": {},
     "output_type": "display_data"
    }
   ],
   "source": [
    "for prec in (10, 20, 30, 40):\n",
    "    display(Rational(100, 9899).evalf(prec))"
   ]
  },
  {
   "cell_type": "code",
   "execution_count": 166,
   "id": "1cfc3c14-c8ee-4ea5-8b3a-08e20635dd85",
   "metadata": {},
   "outputs": [
    {
     "data": {
      "text/latex": [
       "$\\displaystyle 0.1020304051$"
      ],
      "text/plain": [
       "0.1020304051"
      ]
     },
     "metadata": {},
     "output_type": "display_data"
    },
    {
     "data": {
      "text/latex": [
       "$\\displaystyle 0.10203040506070809101$"
      ],
      "text/plain": [
       "0.10203040506070809101"
      ]
     },
     "metadata": {},
     "output_type": "display_data"
    },
    {
     "data": {
      "text/latex": [
       "$\\displaystyle 0.102030405060708091011121314152$"
      ],
      "text/plain": [
       "0.102030405060708091011121314152"
      ]
     },
     "metadata": {},
     "output_type": "display_data"
    },
    {
     "data": {
      "text/latex": [
       "$\\displaystyle 0.1020304050607080910111213141516171819202$"
      ],
      "text/plain": [
       "0.1020304050607080910111213141516171819202"
      ]
     },
     "metadata": {},
     "output_type": "display_data"
    },
    {
     "data": {
      "text/latex": [
       "$\\displaystyle 0.10203040506070809101112131415161718192021222324253$"
      ],
      "text/plain": [
       "0.10203040506070809101112131415161718192021222324253"
      ]
     },
     "metadata": {},
     "output_type": "display_data"
    }
   ],
   "source": [
    "for prec in (10, 20, 30, 40, 50):\n",
    "    display(Rational(1000, 9801).evalf(prec))"
   ]
  },
  {
   "cell_type": "markdown",
   "id": "e4c7691e-1025-4eab-af9c-38ebd9e18632",
   "metadata": {},
   "source": [
    "## Evaluation by substitution"
   ]
  },
  {
   "cell_type": "markdown",
   "id": "8a774a20-af85-40b7-bbba-88f5b57ba335",
   "metadata": {},
   "source": [
    "Since substitution also have evaluation semantics, you can use `subs` with numeric values for convenience.\n",
    "\n",
    "In fact, if sympy sees that every arguments of functions are floating points, it considers the function as 'numeric' and immediately evaluates to a number."
   ]
  },
  {
   "cell_type": "code",
   "execution_count": 86,
   "id": "1fec49d8-6810-4574-ac8c-7adfc1ac7b92",
   "metadata": {},
   "outputs": [
    {
     "data": {
      "text/latex": [
       "$\\displaystyle 0.0470400026866224$"
      ],
      "text/plain": [
       "0.0470400026866224"
      ]
     },
     "execution_count": 86,
     "metadata": {},
     "output_type": "execute_result"
    }
   ],
   "source": [
    "(sin(x) / x).subs(x, 3.0)"
   ]
  },
  {
   "cell_type": "markdown",
   "id": "c5b3ff54-0a04-4c0f-9d36-75da367e537d",
   "metadata": {},
   "source": [
    "## Irrational Numbers"
   ]
  },
  {
   "cell_type": "markdown",
   "id": "04f24e62-1d35-4147-94d3-796d4b5330ec",
   "metadata": {},
   "source": [
    "Unless asked for numeric evaluation, SymPy tries to keep the formula as mathematically precise as possible.\n",
    "\n",
    "For example, square roots and logarithms are irrational, and if you start to express it into some number, \n",
    "you lose some information how the number come from.\n",
    "\n",
    "For example, take an example of a golden ratio"
   ]
  },
  {
   "cell_type": "code",
   "execution_count": 215,
   "id": "75b74c80-3596-4ebb-99fd-5b3879e1a0c6",
   "metadata": {},
   "outputs": [],
   "source": [
    "expr = (1 + sqrt(5)) / 2"
   ]
  },
  {
   "cell_type": "code",
   "execution_count": 216,
   "id": "8aa80be3-8658-4473-940a-faf8003e3e8b",
   "metadata": {},
   "outputs": [
    {
     "data": {
      "text/latex": [
       "$\\displaystyle \\frac{1}{2} + \\frac{\\sqrt{5}}{2}$"
      ],
      "text/plain": [
       "1/2 + sqrt(5)/2"
      ]
     },
     "execution_count": 216,
     "metadata": {},
     "output_type": "execute_result"
    }
   ],
   "source": [
    "expr"
   ]
  },
  {
   "cell_type": "markdown",
   "id": "583d4fcf-bb9d-4e43-8b3b-0737b705976c",
   "metadata": {},
   "source": [
    "If you evaluate it first to number"
   ]
  },
  {
   "cell_type": "code",
   "execution_count": 217,
   "id": "dca722c9-de5a-4203-b29f-31e3e3173d82",
   "metadata": {},
   "outputs": [
    {
     "data": {
      "text/latex": [
       "$\\displaystyle 1.61803398874989$"
      ],
      "text/plain": [
       "1.61803398874989"
      ]
     },
     "execution_count": 217,
     "metadata": {},
     "output_type": "execute_result"
    }
   ],
   "source": [
    "expr.evalf()"
   ]
  },
  {
   "cell_type": "markdown",
   "id": "2064267a-fbc8-4974-934d-af0c3c9c8cf6",
   "metadata": {},
   "source": [
    "Now given that number, can you guess the original number back?\n",
    "\n",
    "It is not possible because there can be so many plausible guesses, like below."
   ]
  },
  {
   "cell_type": "code",
   "execution_count": 238,
   "id": "2c47e883-fc8c-4d06-8d05-451f544097a8",
   "metadata": {},
   "outputs": [
    {
     "data": {
      "text/latex": [
       "$\\displaystyle 1.61904761904762$"
      ],
      "text/plain": [
       "1.61904761904762"
      ]
     },
     "metadata": {},
     "output_type": "display_data"
    },
    {
     "data": {
      "text/latex": [
       "$\\displaystyle 1.61805555555556$"
      ],
      "text/plain": [
       "1.61805555555556"
      ]
     },
     "metadata": {},
     "output_type": "display_data"
    },
    {
     "data": {
      "text/latex": [
       "$\\displaystyle 1.61803713527851$"
      ],
      "text/plain": [
       "1.61803713527851"
      ]
     },
     "metadata": {},
     "output_type": "display_data"
    }
   ],
   "source": [
    "display(Rational(34, 21).evalf())\n",
    "display(Rational(233, 144).evalf())\n",
    "display(Rational(610, 377).evalf())"
   ]
  },
  {
   "cell_type": "markdown",
   "id": "a9c748cd-5dbd-45b1-843c-beea66258659",
   "metadata": {},
   "source": [
    "This example shows that sympy numbers satisfies the mathematical identities exactly,\n",
    "while `math` library always has precision issues."
   ]
  },
  {
   "cell_type": "code",
   "execution_count": 193,
   "id": "ed3a578e-a9e8-43f9-bd52-13df23c5e957",
   "metadata": {},
   "outputs": [
    {
     "data": {
      "text/latex": [
       "$\\displaystyle 0$"
      ],
      "text/plain": [
       "0"
      ]
     },
     "execution_count": 193,
     "metadata": {},
     "output_type": "execute_result"
    }
   ],
   "source": [
    "sqrt(2) ** 2 - 2"
   ]
  },
  {
   "cell_type": "code",
   "execution_count": 195,
   "id": "54b6d396-1c42-4de1-a89e-057066c9fa4c",
   "metadata": {},
   "outputs": [
    {
     "data": {
      "text/plain": [
       "4.440892098500626e-16"
      ]
     },
     "execution_count": 195,
     "metadata": {},
     "output_type": "execute_result"
    }
   ],
   "source": [
    "math.sqrt(2) ** 2 - 2"
   ]
  },
  {
   "cell_type": "markdown",
   "id": "cd7f8ae7-5002-4f60-a183-87e730010293",
   "metadata": {},
   "source": [
    "The math library or numpy library is insufficient to use in actual mathematics, than numeric analysis.\n",
    "\n",
    "So if you actually want to do math, SymPy is the only option."
   ]
  },
  {
   "cell_type": "markdown",
   "id": "0dec3b94-1855-4d3a-8bec-5704624cf8aa",
   "metadata": {},
   "source": [
    "Every SymPy functions, can be used to construct arbitrary mathematical constant that can be generated by mathematical formula."
   ]
  },
  {
   "cell_type": "code",
   "execution_count": null,
   "id": "3a4c46f2-39be-49c6-90b8-b71b678dcf29",
   "metadata": {},
   "outputs": [],
   "source": [
    "sin(1)"
   ]
  },
  {
   "cell_type": "markdown",
   "id": "0863998b-12f8-46a1-bd93-6d3a70b5978b",
   "metadata": {},
   "source": [
    "For example, Apery's constant (https://en.wikipedia.org/wiki/Ap%C3%A9ry%27s_constant) is not available in standard math library. \n",
    "\n",
    "But if you need it, you can build it your own by using sympy functions."
   ]
  },
  {
   "cell_type": "code",
   "execution_count": null,
   "id": "5c529331-e310-4073-9fa7-b037936efc93",
   "metadata": {},
   "outputs": [],
   "source": [
    "zeta(3).evalf()"
   ]
  },
  {
   "cell_type": "markdown",
   "id": "01e6e0a7-dc64-46d4-b6b2-8e35ab130ad8",
   "metadata": {},
   "source": [
    "# Parsing"
   ]
  },
  {
   "cell_type": "markdown",
   "id": "20d98bb3-8ae7-4a86-b60d-7d5c3a3a05d7",
   "metadata": {},
   "source": [
    "We have learned how to build the mathematical formula by programming with symbols.\n",
    "\n",
    "However, you can alternatively build SymPy expressions by parsing from strings."
   ]
  },
  {
   "cell_type": "markdown",
   "id": "77b53512-205d-4977-bbaa-a4865379107a",
   "metadata": {},
   "source": [
    "The pros of using parser is that:\n",
    "\n",
    "- It is easy to store expression as file and read to SymPy (serializing/deserializing).\n",
    "- It can use more 'mathematical' grammar for expressions than Python:\n",
    "  - You always need to declare symbols first, and undefined program variables don't become symbols\n",
    "  - You can't multiply by juxtaposition"
   ]
  },
  {
   "cell_type": "markdown",
   "id": "1ee047e3-56d6-400a-a463-37de124c92cd",
   "metadata": {},
   "source": [
    "## SymPy parser"
   ]
  },
  {
   "cell_type": "markdown",
   "id": "f7796ec0-9188-444c-abf9-03db6a6bc769",
   "metadata": {},
   "source": [
    "`parse_expr` can be used to parse text into SymPy expressions."
   ]
  },
  {
   "cell_type": "markdown",
   "id": "e8c3c36b-3d2d-4d3f-9803-4c8e202873cc",
   "metadata": {},
   "source": [
    "`parse_expr` can do the following:\n",
    "\n",
    "- Parses `sin, cos, ...` into sympy functions.\n",
    "- Finds undefined variables in the code like `x, y` and tries to inject symbols with same name"
   ]
  },
  {
   "cell_type": "code",
   "execution_count": 2,
   "id": "c9b74f68-59d6-4176-953b-9b9bd80e0958",
   "metadata": {},
   "outputs": [
    {
     "data": {
      "text/latex": [
       "$\\displaystyle \\sin{\\left(x + y \\right)}$"
      ],
      "text/plain": [
       "sin(x + y)"
      ]
     },
     "execution_count": 2,
     "metadata": {},
     "output_type": "execute_result"
    }
   ],
   "source": [
    "from sympy import *\n",
    "\n",
    "parse_expr('sin(x + y)')"
   ]
  },
  {
   "cell_type": "markdown",
   "id": "d1c4ec29-945a-4a39-bd16-740a52ae7745",
   "metadata": {},
   "source": [
    "You can notice that factorial can be used directly\n",
    "(with standard_transformations option)"
   ]
  },
  {
   "cell_type": "markdown",
   "id": "c0a0da10-9e86-4468-9050-6526f7273b1a",
   "metadata": {},
   "source": [
    "And with `implicit_multiplication` option, you can multiply by juxtaposition."
   ]
  },
  {
   "cell_type": "code",
   "execution_count": 3,
   "id": "fc085ff0-6c30-4e79-9d5a-2aac9241163c",
   "metadata": {},
   "outputs": [
    {
     "data": {
      "text/latex": [
       "$\\displaystyle 2 x^{2} + 3 x + 4$"
      ],
      "text/plain": [
       "2*x**2 + 3*x + 4"
      ]
     },
     "execution_count": 3,
     "metadata": {},
     "output_type": "execute_result"
    }
   ],
   "source": [
    "from sympy.parsing.sympy_parser import (\n",
    "    standard_transformations,\n",
    "    convert_xor, \n",
    "    implicit_multiplication)\n",
    "\n",
    "parse_expr('2x**2 + 3x + 4', transformations=standard_transformations + (implicit_multiplication,))"
   ]
  },
  {
   "cell_type": "markdown",
   "id": "bb0d5965-1e16-45f8-99bf-bebf6518aa3d",
   "metadata": {},
   "source": [
    "However, the cons is that even though parsing allows you to create symbols without declaring,\n",
    "\n",
    "you would anyway need symbols later for computing derivatives, solving, ...\n",
    "(to be introduced)\n",
    "\n",
    "For that cases, you have to parse strings again for symbols:"
   ]
  },
  {
   "cell_type": "code",
   "execution_count": 4,
   "id": "597ede31-1ceb-4695-b12b-d1d499d71d91",
   "metadata": {},
   "outputs": [
    {
     "data": {
      "text/latex": [
       "$\\displaystyle \\cos{\\left(x + y \\right)}$"
      ],
      "text/plain": [
       "cos(x + y)"
      ]
     },
     "execution_count": 4,
     "metadata": {},
     "output_type": "execute_result"
    }
   ],
   "source": [
    "parse_expr('sin(x + y)').diff(parse_expr('x'))"
   ]
  },
  {
   "cell_type": "markdown",
   "id": "483ca70d-5c7e-4ea2-8bf9-90f579adeecd",
   "metadata": {},
   "source": [
    "# Printing"
   ]
  },
  {
   "cell_type": "markdown",
   "id": "f9409e77-b5e8-412e-899b-176a8512f302",
   "metadata": {},
   "source": [
    "## Math printers"
   ]
  },
  {
   "cell_type": "markdown",
   "id": "4d13fd39-d188-4dc2-8249-fa6cd9a96a61",
   "metadata": {},
   "source": [
    "Although you mostly see the LaTeX typesetted expression here,\n",
    "\n",
    "It is SymPy's `latex` function that does real work behind\n",
    "\n",
    "(The magic is done by `_repr_latex_` interface from IPython)\n",
    "\n",
    "Calling `latex` is useful if you want to copy the typesetted SymPy expressions into your LaTeX article."
   ]
  },
  {
   "cell_type": "code",
   "execution_count": 44,
   "id": "cbc0016e-d224-4403-a179-244db8fc675a",
   "metadata": {},
   "outputs": [
    {
     "data": {
      "text/plain": [
       "'e^{\\\\sin{\\\\left(x^{2} \\\\right)}}'"
      ]
     },
     "execution_count": 44,
     "metadata": {},
     "output_type": "execute_result"
    }
   ],
   "source": [
    "latex(exp(sin(x**2)))"
   ]
  },
  {
   "cell_type": "markdown",
   "id": "1c6ceb1a-3e2d-4055-b8f1-4df0f1893d01",
   "metadata": {},
   "source": [
    "(Be careful that Python escapes the backslashes if string is represented)"
   ]
  },
  {
   "cell_type": "code",
   "execution_count": 52,
   "id": "32d7f5cd-0043-4852-99ee-bf4257be5a76",
   "metadata": {},
   "outputs": [
    {
     "name": "stdout",
     "output_type": "stream",
     "text": [
      "e^{\\sin{\\left(x^{2} \\right)}}\n"
     ]
    }
   ],
   "source": [
    "print(latex(exp(sin(x**2))))"
   ]
  },
  {
   "cell_type": "markdown",
   "id": "87b4180a-b452-44ad-9f5c-690bd8c3ee12",
   "metadata": {},
   "source": [
    "And you can use `pprint` (pretty printing) if you still need to typeset the mathematical expressions\n",
    "with the ascii art (like the graphing calculator).\n",
    "\n",
    "(However, you would only need `latex` for most of the cases)"
   ]
  },
  {
   "cell_type": "code",
   "execution_count": 54,
   "id": "c0be1ee5-3f8a-4e51-8d0b-8582714ab488",
   "metadata": {},
   "outputs": [
    {
     "name": "stdout",
     "output_type": "stream",
     "text": [
      "    / 2\\\n",
      " sin\\x /\n",
      "e       \n"
     ]
    }
   ],
   "source": [
    "pprint(exp(sin(x**2)), use_unicode=False)"
   ]
  },
  {
   "cell_type": "markdown",
   "id": "6ad45022-cf29-46c6-a31e-82c2d2c36442",
   "metadata": {},
   "source": [
    "And if you want to print with plaintext:\n",
    "\n",
    "(`sstr` is name picked because of the conflict with Python builtin)"
   ]
  },
  {
   "cell_type": "code",
   "execution_count": 43,
   "id": "42e81653-f523-47db-ab2d-4e5c3119252e",
   "metadata": {},
   "outputs": [
    {
     "data": {
      "text/plain": [
       "'exp(sin(x**2))'"
      ]
     },
     "execution_count": 43,
     "metadata": {},
     "output_type": "execute_result"
    }
   ],
   "source": [
    "sstr(exp(sin(x**2)))"
   ]
  },
  {
   "cell_type": "markdown",
   "id": "15986b31-9bdc-4cfb-ad83-dece78694493",
   "metadata": {},
   "source": [
    "## Code printers"
   ]
  },
  {
   "cell_type": "markdown",
   "id": "17426698-b751-4710-a3a2-a5de52474c3a",
   "metadata": {},
   "source": [
    "SymPy also have the code printers that can print out mathematical expressions as code.\n",
    "\n",
    "This is useful if you want to 'bake' mathematical formula in SymPy \n",
    "and going to paste in other languages for efficient numeric evaluation."
   ]
  },
  {
   "cell_type": "code",
   "execution_count": 45,
   "id": "4afcea6c-02ee-4501-90b9-18bb2d7334dd",
   "metadata": {},
   "outputs": [
    {
     "data": {
      "text/plain": [
       "'exp(sin(pow(x, 2)))'"
      ]
     },
     "execution_count": 45,
     "metadata": {},
     "output_type": "execute_result"
    }
   ],
   "source": [
    "ccode(exp(sin(x**2)))"
   ]
  },
  {
   "cell_type": "code",
   "execution_count": 48,
   "id": "f16d4943-57b9-45cc-9689-f2f096d0eb26",
   "metadata": {},
   "outputs": [
    {
     "data": {
      "text/plain": [
       "'Math.exp(Math.sin(Math.pow(x, 2)))'"
      ]
     },
     "execution_count": 48,
     "metadata": {},
     "output_type": "execute_result"
    }
   ],
   "source": [
    "jscode(exp(sin(x**2)))"
   ]
  },
  {
   "cell_type": "code",
   "execution_count": 47,
   "id": "24acaa5c-ae12-49ed-bab9-559b12eb0960",
   "metadata": {},
   "outputs": [
    {
     "data": {
      "text/plain": [
       "'Exp[Sin[x^2]]'"
      ]
     },
     "execution_count": 47,
     "metadata": {},
     "output_type": "execute_result"
    }
   ],
   "source": [
    "mathematica_code(exp(sin(x**2)))"
   ]
  },
  {
   "cell_type": "markdown",
   "id": "23e3e0da-94e4-4bc6-9a06-d66e3cfe0126",
   "metadata": {},
   "source": [
    "In fact, sympy contains a toolchain for compiling the mathematical expressions\n",
    "\n",
    "into different programming languages and math libraries.\n",
    "\n",
    "And code printers play a critical role in that\n",
    "\n",
    "(to be explained)"
   ]
  },
  {
   "cell_type": "markdown",
   "id": "fe886008-1364-44df-9f45-d68e17683820",
   "metadata": {},
   "source": [
    "## Exercises"
   ]
  },
  {
   "cell_type": "markdown",
   "id": "be92ad65-5b11-4495-bcd6-36620561fee6",
   "metadata": {},
   "source": [
    "- Try to print `sin(pi/60)` in LaTeX and copy-paste the result with jupyter markdown or https://katex.org/"
   ]
  },
  {
   "cell_type": "code",
   "execution_count": null,
   "id": "835bbc54-783b-4e50-9aff-dc86db50df8a",
   "metadata": {},
   "outputs": [],
   "source": []
  }
 ],
 "metadata": {
  "kernelspec": {
   "display_name": "Python 3 (ipykernel)",
   "language": "python",
   "name": "python3"
  },
  "language_info": {
   "codemirror_mode": {
    "name": "ipython",
    "version": 3
   },
   "file_extension": ".py",
   "mimetype": "text/x-python",
   "name": "python",
   "nbconvert_exporter": "python",
   "pygments_lexer": "ipython3",
   "version": "3.11.2"
  }
 },
 "nbformat": 4,
 "nbformat_minor": 5
}
